{
 "cells": [
  {
   "cell_type": "code",
   "execution_count": null,
   "metadata": {},
   "outputs": [],
   "source": [
    "# Note: Each CSV import is modular so they can be run without having to run the entire notebook \n",
    "# if you want to examine the dataframes"
   ]
  },
  {
   "cell_type": "code",
   "execution_count": 62,
   "metadata": {},
   "outputs": [
    {
     "data": {
      "text/html": [
       "<div>\n",
       "<style scoped>\n",
       "    .dataframe tbody tr th:only-of-type {\n",
       "        vertical-align: middle;\n",
       "    }\n",
       "\n",
       "    .dataframe tbody tr th {\n",
       "        vertical-align: top;\n",
       "    }\n",
       "\n",
       "    .dataframe thead th {\n",
       "        text-align: right;\n",
       "    }\n",
       "</style>\n",
       "<table border=\"1\" class=\"dataframe\">\n",
       "  <thead>\n",
       "    <tr style=\"text-align: right;\">\n",
       "      <th></th>\n",
       "      <th>DATE</th>\n",
       "      <th>RBARBIS</th>\n",
       "    </tr>\n",
       "  </thead>\n",
       "  <tbody>\n",
       "    <tr>\n",
       "      <th>0</th>\n",
       "      <td>1994-01-01</td>\n",
       "      <td>254.28</td>\n",
       "    </tr>\n",
       "    <tr>\n",
       "      <th>1</th>\n",
       "      <td>1994-02-01</td>\n",
       "      <td>252.86</td>\n",
       "    </tr>\n",
       "    <tr>\n",
       "      <th>2</th>\n",
       "      <td>1994-03-01</td>\n",
       "      <td>250.13</td>\n",
       "    </tr>\n",
       "    <tr>\n",
       "      <th>3</th>\n",
       "      <td>1994-04-01</td>\n",
       "      <td>250.50</td>\n",
       "    </tr>\n",
       "    <tr>\n",
       "      <th>4</th>\n",
       "      <td>1994-05-01</td>\n",
       "      <td>248.76</td>\n",
       "    </tr>\n",
       "  </tbody>\n",
       "</table>\n",
       "</div>"
      ],
      "text/plain": [
       "         DATE  RBARBIS\n",
       "0  1994-01-01   254.28\n",
       "1  1994-02-01   252.86\n",
       "2  1994-03-01   250.13\n",
       "3  1994-04-01   250.50\n",
       "4  1994-05-01   248.76"
      ]
     },
     "execution_count": 62,
     "metadata": {},
     "output_type": "execute_result"
    }
   ],
   "source": [
    "# Do initial imports, read CSV, create dataframe and show first 5 values\n",
    "import pandas as pd\n",
    "df = pd.read_csv ('../Data/Argentina/Argentina Exchange Rate.csv')\n",
    "df.head()"
   ]
  },
  {
   "cell_type": "code",
   "execution_count": 63,
   "metadata": {},
   "outputs": [
    {
     "data": {
      "text/html": [
       "<div>\n",
       "<style scoped>\n",
       "    .dataframe tbody tr th:only-of-type {\n",
       "        vertical-align: middle;\n",
       "    }\n",
       "\n",
       "    .dataframe tbody tr th {\n",
       "        vertical-align: top;\n",
       "    }\n",
       "\n",
       "    .dataframe thead th {\n",
       "        text-align: right;\n",
       "    }\n",
       "</style>\n",
       "<table border=\"1\" class=\"dataframe\">\n",
       "  <thead>\n",
       "    <tr style=\"text-align: right;\">\n",
       "      <th></th>\n",
       "      <th>DATE</th>\n",
       "      <th>Broad Effective Exchange Rate</th>\n",
       "    </tr>\n",
       "  </thead>\n",
       "  <tbody>\n",
       "    <tr>\n",
       "      <th>0</th>\n",
       "      <td>1994-01-01</td>\n",
       "      <td>254.28</td>\n",
       "    </tr>\n",
       "    <tr>\n",
       "      <th>1</th>\n",
       "      <td>1994-02-01</td>\n",
       "      <td>252.86</td>\n",
       "    </tr>\n",
       "    <tr>\n",
       "      <th>2</th>\n",
       "      <td>1994-03-01</td>\n",
       "      <td>250.13</td>\n",
       "    </tr>\n",
       "    <tr>\n",
       "      <th>3</th>\n",
       "      <td>1994-04-01</td>\n",
       "      <td>250.50</td>\n",
       "    </tr>\n",
       "    <tr>\n",
       "      <th>4</th>\n",
       "      <td>1994-05-01</td>\n",
       "      <td>248.76</td>\n",
       "    </tr>\n",
       "  </tbody>\n",
       "</table>\n",
       "</div>"
      ],
      "text/plain": [
       "         DATE  Broad Effective Exchange Rate\n",
       "0  1994-01-01                         254.28\n",
       "1  1994-02-01                         252.86\n",
       "2  1994-03-01                         250.13\n",
       "3  1994-04-01                         250.50\n",
       "4  1994-05-01                         248.76"
      ]
     },
     "execution_count": 63,
     "metadata": {},
     "output_type": "execute_result"
    }
   ],
   "source": [
    "# Change name of column to accurately reflect values it contains\n",
    "\n",
    "df['Broad Effective Exchange Rate'] = df['RBARBIS']\n",
    "\n",
    "df.drop(columns=['RBARBIS'], inplace=True)\n",
    "\n",
    "df.head()"
   ]
  },
  {
   "cell_type": "code",
   "execution_count": 64,
   "metadata": {},
   "outputs": [
    {
     "data": {
      "text/plain": [
       "<AxesSubplot:>"
      ]
     },
     "execution_count": 64,
     "metadata": {},
     "output_type": "execute_result"
    },
    {
     "data": {
      "image/png": "[encoded data removed]",
      "text/plain": [
       "<Figure size 432x288 with 1 Axes>"
      ]
     },
     "metadata": {
      "needs_background": "light"
     },
     "output_type": "display_data"
    }
   ],
   "source": [
    "# Import matplotlib & plot dataframe\n",
    "\n",
    "import matplotlib\n",
    "\n",
    "df.plot.line()"
   ]
  },
  {
   "cell_type": "code",
   "execution_count": 65,
   "metadata": {},
   "outputs": [
    {
     "data": {
      "text/html": [
       "<div>\n",
       "<style scoped>\n",
       "    .dataframe tbody tr th:only-of-type {\n",
       "        vertical-align: middle;\n",
       "    }\n",
       "\n",
       "    .dataframe tbody tr th {\n",
       "        vertical-align: top;\n",
       "    }\n",
       "\n",
       "    .dataframe thead th {\n",
       "        text-align: right;\n",
       "    }\n",
       "</style>\n",
       "<table border=\"1\" class=\"dataframe\">\n",
       "  <thead>\n",
       "    <tr style=\"text-align: right;\">\n",
       "      <th></th>\n",
       "      <th>DATE</th>\n",
       "      <th>Consumer Price Index</th>\n",
       "    </tr>\n",
       "  </thead>\n",
       "  <tbody>\n",
       "    <tr>\n",
       "      <th>0</th>\n",
       "      <td>1996-01-01</td>\n",
       "      <td>34.0693</td>\n",
       "    </tr>\n",
       "    <tr>\n",
       "      <th>1</th>\n",
       "      <td>1997-01-01</td>\n",
       "      <td>36.4372</td>\n",
       "    </tr>\n",
       "    <tr>\n",
       "      <th>2</th>\n",
       "      <td>1998-01-01</td>\n",
       "      <td>40.6470</td>\n",
       "    </tr>\n",
       "    <tr>\n",
       "      <th>3</th>\n",
       "      <td>1999-01-01</td>\n",
       "      <td>43.3912</td>\n",
       "    </tr>\n",
       "    <tr>\n",
       "      <th>4</th>\n",
       "      <td>2000-01-01</td>\n",
       "      <td>47.2893</td>\n",
       "    </tr>\n",
       "  </tbody>\n",
       "</table>\n",
       "</div>"
      ],
      "text/plain": [
       "         DATE  Consumer Price Index\n",
       "0  1996-01-01               34.0693\n",
       "1  1997-01-01               36.4372\n",
       "2  1998-01-01               40.6470\n",
       "3  1999-01-01               43.3912\n",
       "4  2000-01-01               47.2893"
      ]
     },
     "execution_count": 65,
     "metadata": {},
     "output_type": "execute_result"
    }
   ],
   "source": [
    "# Import CSV and rename columns\n",
    "\n",
    "import pandas as pd\n",
    "\n",
    "df1 = pd.read_csv ('../Data/Argentina/Argentina CPI.csv')\n",
    "\n",
    "df1['Consumer Price Index'] = df1['DDOE02PYA086NWDB']\n",
    "\n",
    "df1.drop(columns=['DDOE02PYA086NWDB'], inplace=True)\n",
    "\n",
    "df1.head()"
   ]
  },
  {
   "cell_type": "code",
   "execution_count": 66,
   "metadata": {},
   "outputs": [
    {
     "data": {
      "text/html": [
       "<div>\n",
       "<style scoped>\n",
       "    .dataframe tbody tr th:only-of-type {\n",
       "        vertical-align: middle;\n",
       "    }\n",
       "\n",
       "    .dataframe tbody tr th {\n",
       "        vertical-align: top;\n",
       "    }\n",
       "\n",
       "    .dataframe thead th {\n",
       "        text-align: right;\n",
       "    }\n",
       "</style>\n",
       "<table border=\"1\" class=\"dataframe\">\n",
       "  <thead>\n",
       "    <tr style=\"text-align: right;\">\n",
       "      <th></th>\n",
       "      <th>DATE</th>\n",
       "      <th>GDP Percent Change</th>\n",
       "    </tr>\n",
       "  </thead>\n",
       "  <tbody>\n",
       "    <tr>\n",
       "      <th>0</th>\n",
       "      <td>1980-01-01</td>\n",
       "      <td>0.700</td>\n",
       "    </tr>\n",
       "    <tr>\n",
       "      <th>1</th>\n",
       "      <td>1981-01-01</td>\n",
       "      <td>-5.744</td>\n",
       "    </tr>\n",
       "    <tr>\n",
       "      <th>2</th>\n",
       "      <td>1982-01-01</td>\n",
       "      <td>-3.149</td>\n",
       "    </tr>\n",
       "    <tr>\n",
       "      <th>3</th>\n",
       "      <td>1983-01-01</td>\n",
       "      <td>3.733</td>\n",
       "    </tr>\n",
       "    <tr>\n",
       "      <th>4</th>\n",
       "      <td>1984-01-01</td>\n",
       "      <td>2.000</td>\n",
       "    </tr>\n",
       "  </tbody>\n",
       "</table>\n",
       "</div>"
      ],
      "text/plain": [
       "         DATE  GDP Percent Change\n",
       "0  1980-01-01               0.700\n",
       "1  1981-01-01              -5.744\n",
       "2  1982-01-01              -3.149\n",
       "3  1983-01-01               3.733\n",
       "4  1984-01-01               2.000"
      ]
     },
     "execution_count": 66,
     "metadata": {},
     "output_type": "execute_result"
    }
   ],
   "source": [
    "# Import CSV, copy & rename columns\n",
    "\n",
    "import pandas as pd\n",
    "\n",
    "df2 = pd.read_csv ('../Data/Argentina/Argentina GDP Change.csv')\n",
    "\n",
    "df2['GDP Percent Change'] = df2['ARGNGDPRPCH']\n",
    "\n",
    "df2.drop(columns=['ARGNGDPRPCH'], inplace=True)\n",
    "\n",
    "df2_copy = df2\n",
    "\n",
    "df2_copy.head()"
   ]
  },
  {
   "cell_type": "code",
   "execution_count": 67,
   "metadata": {},
   "outputs": [
    {
     "data": {
      "text/plain": [
       "<AxesSubplot:>"
      ]
     },
     "execution_count": 67,
     "metadata": {},
     "output_type": "execute_result"
    },
    {
     "data": {
      "image/png": "[encoded data removed]",
      "text/plain": [
       "<Figure size 432x288 with 1 Axes>"
      ]
     },
     "metadata": {
      "needs_background": "light"
     },
     "output_type": "display_data"
    }
   ],
   "source": [
    "# Plot dataframe to check data\n",
    "\n",
    "df2_copy.plot.line()"
   ]
  },
  {
   "cell_type": "code",
   "execution_count": 68,
   "metadata": {},
   "outputs": [
    {
     "data": {
      "text/html": [
       "<div>\n",
       "<style scoped>\n",
       "    .dataframe tbody tr th:only-of-type {\n",
       "        vertical-align: middle;\n",
       "    }\n",
       "\n",
       "    .dataframe tbody tr th {\n",
       "        vertical-align: top;\n",
       "    }\n",
       "\n",
       "    .dataframe thead th {\n",
       "        text-align: right;\n",
       "    }\n",
       "</style>\n",
       "<table border=\"1\" class=\"dataframe\">\n",
       "  <thead>\n",
       "    <tr style=\"text-align: right;\">\n",
       "      <th></th>\n",
       "      <th>DATE</th>\n",
       "      <th>Broad Effective Exchange Rate</th>\n",
       "      <th>Consumer Price Index</th>\n",
       "    </tr>\n",
       "  </thead>\n",
       "  <tbody>\n",
       "    <tr>\n",
       "      <th>0</th>\n",
       "      <td>1996-01-01</td>\n",
       "      <td>229.23</td>\n",
       "      <td>34.0693</td>\n",
       "    </tr>\n",
       "    <tr>\n",
       "      <th>1</th>\n",
       "      <td>1997-01-01</td>\n",
       "      <td>228.25</td>\n",
       "      <td>36.4372</td>\n",
       "    </tr>\n",
       "    <tr>\n",
       "      <th>2</th>\n",
       "      <td>1998-01-01</td>\n",
       "      <td>243.23</td>\n",
       "      <td>40.6470</td>\n",
       "    </tr>\n",
       "    <tr>\n",
       "      <th>3</th>\n",
       "      <td>1999-01-01</td>\n",
       "      <td>254.71</td>\n",
       "      <td>43.3912</td>\n",
       "    </tr>\n",
       "    <tr>\n",
       "      <th>4</th>\n",
       "      <td>2000-01-01</td>\n",
       "      <td>261.44</td>\n",
       "      <td>47.2893</td>\n",
       "    </tr>\n",
       "  </tbody>\n",
       "</table>\n",
       "</div>"
      ],
      "text/plain": [
       "         DATE  Broad Effective Exchange Rate  Consumer Price Index\n",
       "0  1996-01-01                         229.23               34.0693\n",
       "1  1997-01-01                         228.25               36.4372\n",
       "2  1998-01-01                         243.23               40.6470\n",
       "3  1999-01-01                         254.71               43.3912\n",
       "4  2000-01-01                         261.44               47.2893"
      ]
     },
     "execution_count": 68,
     "metadata": {},
     "output_type": "execute_result"
    }
   ],
   "source": [
    "# Merge the first two dataframes \n",
    "\n",
    "frames = pd.merge(df,df1)\n",
    "\n",
    "frames.head()\n"
   ]
  },
  {
   "cell_type": "code",
   "execution_count": 71,
   "metadata": {},
   "outputs": [
    {
     "data": {
      "text/html": [
       "<div>\n",
       "<style scoped>\n",
       "    .dataframe tbody tr th:only-of-type {\n",
       "        vertical-align: middle;\n",
       "    }\n",
       "\n",
       "    .dataframe tbody tr th {\n",
       "        vertical-align: top;\n",
       "    }\n",
       "\n",
       "    .dataframe thead th {\n",
       "        text-align: right;\n",
       "    }\n",
       "</style>\n",
       "<table border=\"1\" class=\"dataframe\">\n",
       "  <thead>\n",
       "    <tr style=\"text-align: right;\">\n",
       "      <th></th>\n",
       "      <th>Broad Effective Exchange Rate</th>\n",
       "      <th>Consumer Price Index</th>\n",
       "      <th>GDP Percent Change</th>\n",
       "    </tr>\n",
       "  </thead>\n",
       "  <tbody>\n",
       "    <tr>\n",
       "      <th>0</th>\n",
       "      <td>229.23</td>\n",
       "      <td>34.0693</td>\n",
       "      <td>5.527</td>\n",
       "    </tr>\n",
       "    <tr>\n",
       "      <th>1</th>\n",
       "      <td>228.25</td>\n",
       "      <td>36.4372</td>\n",
       "      <td>8.111</td>\n",
       "    </tr>\n",
       "    <tr>\n",
       "      <th>2</th>\n",
       "      <td>243.23</td>\n",
       "      <td>40.6470</td>\n",
       "      <td>3.850</td>\n",
       "    </tr>\n",
       "    <tr>\n",
       "      <th>3</th>\n",
       "      <td>254.71</td>\n",
       "      <td>43.3912</td>\n",
       "      <td>-3.385</td>\n",
       "    </tr>\n",
       "    <tr>\n",
       "      <th>4</th>\n",
       "      <td>261.44</td>\n",
       "      <td>47.2893</td>\n",
       "      <td>-0.789</td>\n",
       "    </tr>\n",
       "  </tbody>\n",
       "</table>\n",
       "</div>"
      ],
      "text/plain": [
       "   Broad Effective Exchange Rate  Consumer Price Index  GDP Percent Change\n",
       "0                         229.23               34.0693               5.527\n",
       "1                         228.25               36.4372               8.111\n",
       "2                         243.23               40.6470               3.850\n",
       "3                         254.71               43.3912              -3.385\n",
       "4                         261.44               47.2893              -0.789"
      ]
     },
     "execution_count": 71,
     "metadata": {},
     "output_type": "execute_result"
    }
   ],
   "source": [
    "# Merge all dataframes into a consolidated dataframe from plotting and analysis\n",
    "\n",
    "Argentina_df = pd.merge(frames, df2_copy)\n",
    "\n",
    "Argentina_df.drop(columns=['DATE'], inplace=True)\n",
    "\n",
    "Argentina_df.head()"
   ]
  },
  {
   "cell_type": "code",
   "execution_count": 72,
   "metadata": {},
   "outputs": [
    {
     "data": {
      "text/plain": [
       "<AxesSubplot:>"
      ]
     },
     "execution_count": 72,
     "metadata": {},
     "output_type": "execute_result"
    },
    {
     "data": {
      "image/png": "[encoded data removed]",
      "text/plain": [
       "<Figure size 432x288 with 1 Axes>"
      ]
     },
     "metadata": {
      "needs_background": "light"
     },
     "output_type": "display_data"
    }
   ],
   "source": [
    "# Plot the consolidated dataframe to review results before regression analysis\n",
    "\n",
    "Argentina_df.plot.line()"
   ]
  },
  {
   "cell_type": "code",
   "execution_count": 73,
   "metadata": {},
   "outputs": [],
   "source": [
    "# Import mopdule for scatterplot\n",
    "import matplotlib.pyplot as plt"
   ]
  },
  {
   "cell_type": "code",
   "execution_count": 74,
   "metadata": {},
   "outputs": [
    {
     "data": {
      "text/plain": [
       "<matplotlib.collections.PathCollection at 0x274b5ecaac0>"
      ]
     },
     "execution_count": 74,
     "metadata": {},
     "output_type": "execute_result"
    },
    {
     "data": {
      "image/png": "[encoded data removed]",
      "text/plain": [
       "<Figure size 432x288 with 1 Axes>"
      ]
     },
     "metadata": {
      "needs_background": "light"
     },
     "output_type": "display_data"
    }
   ],
   "source": [
    "# Display sample data for scatter plot\n",
    "\n",
    "plt.scatter(df2_copy.index , df2_copy['GDP Percent Change'])"
   ]
  },
  {
   "cell_type": "code",
   "execution_count": 75,
   "metadata": {},
   "outputs": [],
   "source": [
    "# Import linear regression from sklearn\n",
    "\n",
    "from sklearn.linear_model import LinearRegression"
   ]
  },
  {
   "cell_type": "code",
   "execution_count": 76,
   "metadata": {},
   "outputs": [
    {
     "data": {
      "text/plain": [
       "LinearRegression()"
      ]
     },
     "execution_count": 76,
     "metadata": {},
     "output_type": "execute_result"
    }
   ],
   "source": [
    "# Initialize linear regression as a variable\n",
    "\n",
    "model = LinearRegression()\n",
    "model"
   ]
  },
  {
   "cell_type": "code",
   "execution_count": 78,
   "metadata": {},
   "outputs": [],
   "source": [
    "# Note: The dataframes were not analyzed in order. \n",
    "# Reshape values\n",
    "X = df2_copy.index.values.reshape(-1,1)\n",
    "y = df2_copy['GDP Percent Change'].values.reshape(-1,1)"
   ]
  },
  {
   "cell_type": "code",
   "execution_count": 79,
   "metadata": {},
   "outputs": [
    {
     "data": {
      "text/plain": [
       "LinearRegression()"
      ]
     },
     "execution_count": 79,
     "metadata": {},
     "output_type": "execute_result"
    }
   ],
   "source": [
    "# Fit the model\n",
    "model.fit(X, y)"
   ]
  },
  {
   "cell_type": "code",
   "execution_count": 80,
   "metadata": {},
   "outputs": [
    {
     "data": {
      "text/plain": [
       "array([[1.54446809],\n",
       "       [1.55042276],\n",
       "       [1.55637743],\n",
       "       [1.5623321 ],\n",
       "       [1.56828677],\n",
       "       [1.57424144],\n",
       "       [1.58019611],\n",
       "       [1.58615079],\n",
       "       [1.59210546],\n",
       "       [1.59806013],\n",
       "       [1.6040148 ],\n",
       "       [1.60996947],\n",
       "       [1.61592414],\n",
       "       [1.62187882],\n",
       "       [1.62783349],\n",
       "       [1.63378816],\n",
       "       [1.63974283],\n",
       "       [1.6456975 ],\n",
       "       [1.65165217],\n",
       "       [1.65760685],\n",
       "       [1.66356152],\n",
       "       [1.66951619],\n",
       "       [1.67547086],\n",
       "       [1.68142553],\n",
       "       [1.6873802 ],\n",
       "       [1.69333488],\n",
       "       [1.69928955],\n",
       "       [1.70524422],\n",
       "       [1.71119889],\n",
       "       [1.71715356],\n",
       "       [1.72310823],\n",
       "       [1.7290629 ],\n",
       "       [1.73501758],\n",
       "       [1.74097225],\n",
       "       [1.74692692],\n",
       "       [1.75288159],\n",
       "       [1.75883626],\n",
       "       [1.76479093],\n",
       "       [1.77074561],\n",
       "       [1.77670028],\n",
       "       [1.78265495],\n",
       "       [1.78860962],\n",
       "       [1.79456429],\n",
       "       [1.80051896],\n",
       "       [1.80647364],\n",
       "       [1.81242831],\n",
       "       [1.81838298]])"
      ]
     },
     "execution_count": 80,
     "metadata": {},
     "output_type": "execute_result"
    }
   ],
   "source": [
    "# Predict the 'y' values\n",
    "\n",
    "predicted_y_values = model.predict(X)\n",
    "predicted_y_values"
   ]
  },
  {
   "cell_type": "code",
   "execution_count": 81,
   "metadata": {},
   "outputs": [
    {
     "data": {
      "text/plain": [
       "[<matplotlib.lines.Line2D at 0x274b5f23e20>]"
      ]
     },
     "execution_count": 81,
     "metadata": {},
     "output_type": "execute_result"
    },
    {
     "data": {
      "image/png": "[encoded data removed]",
      "text/plain": [
       "<Figure size 432x288 with 1 Axes>"
      ]
     },
     "metadata": {
      "needs_background": "light"
     },
     "output_type": "display_data"
    }
   ],
   "source": [
    "# Show a scatter plot incorporating the linear regression\n",
    "\n",
    "plt.scatter(X, y)\n",
    "plt.title('Argentina GDP Percent Change Projection')\n",
    "plt.plot(X, predicted_y_values, color='red')"
   ]
  },
  {
   "cell_type": "code",
   "execution_count": 104,
   "metadata": {},
   "outputs": [],
   "source": [
    "from sklearn.linear_model import LinearRegression"
   ]
  },
  {
   "cell_type": "code",
   "execution_count": 82,
   "metadata": {},
   "outputs": [
    {
     "data": {
      "text/plain": [
       "LinearRegression()"
      ]
     },
     "execution_count": 82,
     "metadata": {},
     "output_type": "execute_result"
    }
   ],
   "source": [
    "# Initialize a new model\n",
    "\n",
    "model2 = LinearRegression()\n",
    "model2"
   ]
  },
  {
   "cell_type": "code",
   "execution_count": 83,
   "metadata": {},
   "outputs": [],
   "source": [
    "# Reshape the CPI data and values\n",
    "\n",
    "X = Argentina_df.index.values.reshape(-1,1)\n",
    "y = Argentina_df['Consumer Price Index'].values.reshape(-1,1)"
   ]
  },
  {
   "cell_type": "code",
   "execution_count": 84,
   "metadata": {},
   "outputs": [
    {
     "data": {
      "text/plain": [
       "LinearRegression()"
      ]
     },
     "execution_count": 84,
     "metadata": {},
     "output_type": "execute_result"
    }
   ],
   "source": [
    "# Fit the model\n",
    "\n",
    "model2.fit(X, y)"
   ]
  },
  {
   "cell_type": "code",
   "execution_count": 85,
   "metadata": {},
   "outputs": [
    {
     "data": {
      "text/plain": [
       "array([[ 28.95627628],\n",
       "       [ 34.02715257],\n",
       "       [ 39.09802885],\n",
       "       [ 44.16890514],\n",
       "       [ 49.23978142],\n",
       "       [ 54.31065771],\n",
       "       [ 59.38153399],\n",
       "       [ 64.45241028],\n",
       "       [ 69.52328656],\n",
       "       [ 74.59416285],\n",
       "       [ 79.66503913],\n",
       "       [ 84.73591542],\n",
       "       [ 89.8067917 ],\n",
       "       [ 94.87766798],\n",
       "       [ 99.94854427],\n",
       "       [105.01942055],\n",
       "       [110.09029684],\n",
       "       [115.16117312],\n",
       "       [120.23204941],\n",
       "       [125.30292569],\n",
       "       [130.37380198],\n",
       "       [135.44467826]])"
      ]
     },
     "execution_count": 85,
     "metadata": {},
     "output_type": "execute_result"
    }
   ],
   "source": [
    "# Predict the 'y' values\n",
    "predicted_y_values = model2.predict(X)\n",
    "predicted_y_values"
   ]
  },
  {
   "cell_type": "code",
   "execution_count": 86,
   "metadata": {},
   "outputs": [
    {
     "data": {
      "text/plain": [
       "[<matplotlib.lines.Line2D at 0x274b4c37b50>]"
      ]
     },
     "execution_count": 86,
     "metadata": {},
     "output_type": "execute_result"
    },
    {
     "data": {
      "image/png": "[encoded data removed]",
      "text/plain": [
       "<Figure size 432x288 with 1 Axes>"
      ]
     },
     "metadata": {
      "needs_background": "light"
     },
     "output_type": "display_data"
    }
   ],
   "source": [
    "# Create a scatter plot showing the linear regression projection\n",
    "\n",
    "plt.scatter(X, y)\n",
    "plt.title('Argentina CPI Projection')\n",
    "plt.plot(X, predicted_y_values, color='red')"
   ]
  },
  {
   "cell_type": "code",
   "execution_count": null,
   "metadata": {},
   "outputs": [],
   "source": [
    "from sklearn.linear_model import LinearRegression"
   ]
  },
  {
   "cell_type": "code",
   "execution_count": 87,
   "metadata": {},
   "outputs": [
    {
     "data": {
      "text/plain": [
       "LinearRegression()"
      ]
     },
     "execution_count": 87,
     "metadata": {},
     "output_type": "execute_result"
    }
   ],
   "source": [
    "# Initialize a new model\n",
    "\n",
    "model3 = LinearRegression()\n",
    "model3"
   ]
  },
  {
   "cell_type": "code",
   "execution_count": 88,
   "metadata": {},
   "outputs": [],
   "source": [
    "# Reshape the values for the first dataframe\n",
    "\n",
    "X = df.index.values.reshape(-1,1)\n",
    "y = df['Broad Effective Exchange Rate'].values.reshape(-1,1)"
   ]
  },
  {
   "cell_type": "code",
   "execution_count": 89,
   "metadata": {},
   "outputs": [
    {
     "data": {
      "text/plain": [
       "LinearRegression()"
      ]
     },
     "execution_count": 89,
     "metadata": {},
     "output_type": "execute_result"
    }
   ],
   "source": [
    "# Fit the data\n",
    "\n",
    "model3.fit(X, y)"
   ]
  },
  {
   "cell_type": "code",
   "execution_count": 90,
   "metadata": {},
   "outputs": [
    {
     "data": {
      "text/plain": [
       "array([[251.74087137],\n",
       "       [251.05255752],\n",
       "       [250.36424366],\n",
       "       [249.67592981],\n",
       "       [248.98761596],\n",
       "       [248.2993021 ],\n",
       "       [247.61098825],\n",
       "       [246.9226744 ],\n",
       "       [246.23436054],\n",
       "       [245.54604669],\n",
       "       [244.85773283],\n",
       "       [244.16941898],\n",
       "       [243.48110513],\n",
       "       [242.79279127],\n",
       "       [242.10447742],\n",
       "       [241.41616357],\n",
       "       [240.72784971],\n",
       "       [240.03953586],\n",
       "       [239.351222  ],\n",
       "       [238.66290815],\n",
       "       [237.9745943 ],\n",
       "       [237.28628044],\n",
       "       [236.59796659],\n",
       "       [235.90965274],\n",
       "       [235.22133888],\n",
       "       [234.53302503],\n",
       "       [233.84471117],\n",
       "       [233.15639732],\n",
       "       [232.46808347],\n",
       "       [231.77976961],\n",
       "       [231.09145576],\n",
       "       [230.4031419 ],\n",
       "       [229.71482805],\n",
       "       [229.0265142 ],\n",
       "       [228.33820034],\n",
       "       [227.64988649],\n",
       "       [226.96157264],\n",
       "       [226.27325878],\n",
       "       [225.58494493],\n",
       "       [224.89663107],\n",
       "       [224.20831722],\n",
       "       [223.52000337],\n",
       "       [222.83168951],\n",
       "       [222.14337566],\n",
       "       [221.45506181],\n",
       "       [220.76674795],\n",
       "       [220.0784341 ],\n",
       "       [219.39012024],\n",
       "       [218.70180639],\n",
       "       [218.01349254],\n",
       "       [217.32517868],\n",
       "       [216.63686483],\n",
       "       [215.94855098],\n",
       "       [215.26023712],\n",
       "       [214.57192327],\n",
       "       [213.88360941],\n",
       "       [213.19529556],\n",
       "       [212.50698171],\n",
       "       [211.81866785],\n",
       "       [211.130354  ],\n",
       "       [210.44204015],\n",
       "       [209.75372629],\n",
       "       [209.06541244],\n",
       "       [208.37709858],\n",
       "       [207.68878473],\n",
       "       [207.00047088],\n",
       "       [206.31215702],\n",
       "       [205.62384317],\n",
       "       [204.93552931],\n",
       "       [204.24721546],\n",
       "       [203.55890161],\n",
       "       [202.87058775],\n",
       "       [202.1822739 ],\n",
       "       [201.49396005],\n",
       "       [200.80564619],\n",
       "       [200.11733234],\n",
       "       [199.42901848],\n",
       "       [198.74070463],\n",
       "       [198.05239078],\n",
       "       [197.36407692],\n",
       "       [196.67576307],\n",
       "       [195.98744922],\n",
       "       [195.29913536],\n",
       "       [194.61082151],\n",
       "       [193.92250765],\n",
       "       [193.2341938 ],\n",
       "       [192.54587995],\n",
       "       [191.85756609],\n",
       "       [191.16925224],\n",
       "       [190.48093839],\n",
       "       [189.79262453],\n",
       "       [189.10431068],\n",
       "       [188.41599682],\n",
       "       [187.72768297],\n",
       "       [187.03936912],\n",
       "       [186.35105526],\n",
       "       [185.66274141],\n",
       "       [184.97442755],\n",
       "       [184.2861137 ],\n",
       "       [183.59779985],\n",
       "       [182.90948599],\n",
       "       [182.22117214],\n",
       "       [181.53285829],\n",
       "       [180.84454443],\n",
       "       [180.15623058],\n",
       "       [179.46791672],\n",
       "       [178.77960287],\n",
       "       [178.09128902],\n",
       "       [177.40297516],\n",
       "       [176.71466131],\n",
       "       [176.02634746],\n",
       "       [175.3380336 ],\n",
       "       [174.64971975],\n",
       "       [173.96140589],\n",
       "       [173.27309204],\n",
       "       [172.58477819],\n",
       "       [171.89646433],\n",
       "       [171.20815048],\n",
       "       [170.51983663],\n",
       "       [169.83152277],\n",
       "       [169.14320892],\n",
       "       [168.45489506],\n",
       "       [167.76658121],\n",
       "       [167.07826736],\n",
       "       [166.3899535 ],\n",
       "       [165.70163965],\n",
       "       [165.0133258 ],\n",
       "       [164.32501194],\n",
       "       [163.63669809],\n",
       "       [162.94838423],\n",
       "       [162.26007038],\n",
       "       [161.57175653],\n",
       "       [160.88344267],\n",
       "       [160.19512882],\n",
       "       [159.50681496],\n",
       "       [158.81850111],\n",
       "       [158.13018726],\n",
       "       [157.4418734 ],\n",
       "       [156.75355955],\n",
       "       [156.0652457 ],\n",
       "       [155.37693184],\n",
       "       [154.68861799],\n",
       "       [154.00030413],\n",
       "       [153.31199028],\n",
       "       [152.62367643],\n",
       "       [151.93536257],\n",
       "       [151.24704872],\n",
       "       [150.55873487],\n",
       "       [149.87042101],\n",
       "       [149.18210716],\n",
       "       [148.4937933 ],\n",
       "       [147.80547945],\n",
       "       [147.1171656 ],\n",
       "       [146.42885174],\n",
       "       [145.74053789],\n",
       "       [145.05222404],\n",
       "       [144.36391018],\n",
       "       [143.67559633],\n",
       "       [142.98728247],\n",
       "       [142.29896862],\n",
       "       [141.61065477],\n",
       "       [140.92234091],\n",
       "       [140.23402706],\n",
       "       [139.5457132 ],\n",
       "       [138.85739935],\n",
       "       [138.1690855 ],\n",
       "       [137.48077164],\n",
       "       [136.79245779],\n",
       "       [136.10414394],\n",
       "       [135.41583008],\n",
       "       [134.72751623],\n",
       "       [134.03920237],\n",
       "       [133.35088852],\n",
       "       [132.66257467],\n",
       "       [131.97426081],\n",
       "       [131.28594696],\n",
       "       [130.59763311],\n",
       "       [129.90931925],\n",
       "       [129.2210054 ],\n",
       "       [128.53269154],\n",
       "       [127.84437769],\n",
       "       [127.15606384],\n",
       "       [126.46774998],\n",
       "       [125.77943613],\n",
       "       [125.09112228],\n",
       "       [124.40280842],\n",
       "       [123.71449457],\n",
       "       [123.02618071],\n",
       "       [122.33786686],\n",
       "       [121.64955301],\n",
       "       [120.96123915],\n",
       "       [120.2729253 ],\n",
       "       [119.58461145],\n",
       "       [118.89629759],\n",
       "       [118.20798374],\n",
       "       [117.51966988],\n",
       "       [116.83135603],\n",
       "       [116.14304218],\n",
       "       [115.45472832],\n",
       "       [114.76641447],\n",
       "       [114.07810061],\n",
       "       [113.38978676],\n",
       "       [112.70147291],\n",
       "       [112.01315905],\n",
       "       [111.3248452 ],\n",
       "       [110.63653135],\n",
       "       [109.94821749],\n",
       "       [109.25990364],\n",
       "       [108.57158978],\n",
       "       [107.88327593],\n",
       "       [107.19496208],\n",
       "       [106.50664822],\n",
       "       [105.81833437],\n",
       "       [105.13002052],\n",
       "       [104.44170666],\n",
       "       [103.75339281],\n",
       "       [103.06507895],\n",
       "       [102.3767651 ],\n",
       "       [101.68845125],\n",
       "       [101.00013739],\n",
       "       [100.31182354],\n",
       "       [ 99.62350969],\n",
       "       [ 98.93519583],\n",
       "       [ 98.24688198],\n",
       "       [ 97.55856812],\n",
       "       [ 96.87025427],\n",
       "       [ 96.18194042],\n",
       "       [ 95.49362656],\n",
       "       [ 94.80531271],\n",
       "       [ 94.11699885],\n",
       "       [ 93.428685  ],\n",
       "       [ 92.74037115],\n",
       "       [ 92.05205729],\n",
       "       [ 91.36374344],\n",
       "       [ 90.67542959],\n",
       "       [ 89.98711573],\n",
       "       [ 89.29880188],\n",
       "       [ 88.61048802],\n",
       "       [ 87.92217417],\n",
       "       [ 87.23386032],\n",
       "       [ 86.54554646],\n",
       "       [ 85.85723261],\n",
       "       [ 85.16891876],\n",
       "       [ 84.4806049 ],\n",
       "       [ 83.79229105],\n",
       "       [ 83.10397719],\n",
       "       [ 82.41566334],\n",
       "       [ 81.72734949],\n",
       "       [ 81.03903563],\n",
       "       [ 80.35072178],\n",
       "       [ 79.66240793],\n",
       "       [ 78.97409407],\n",
       "       [ 78.28578022],\n",
       "       [ 77.59746636],\n",
       "       [ 76.90915251],\n",
       "       [ 76.22083866],\n",
       "       [ 75.5325248 ],\n",
       "       [ 74.84421095],\n",
       "       [ 74.1558971 ],\n",
       "       [ 73.46758324],\n",
       "       [ 72.77926939],\n",
       "       [ 72.09095553],\n",
       "       [ 71.40264168],\n",
       "       [ 70.71432783],\n",
       "       [ 70.02601397],\n",
       "       [ 69.33770012],\n",
       "       [ 68.64938626],\n",
       "       [ 67.96107241],\n",
       "       [ 67.27275856],\n",
       "       [ 66.5844447 ],\n",
       "       [ 65.89613085],\n",
       "       [ 65.207817  ],\n",
       "       [ 64.51950314],\n",
       "       [ 63.83118929],\n",
       "       [ 63.14287543],\n",
       "       [ 62.45456158],\n",
       "       [ 61.76624773],\n",
       "       [ 61.07793387],\n",
       "       [ 60.38962002],\n",
       "       [ 59.70130617],\n",
       "       [ 59.01299231],\n",
       "       [ 58.32467846],\n",
       "       [ 57.6363646 ],\n",
       "       [ 56.94805075],\n",
       "       [ 56.2597369 ],\n",
       "       [ 55.57142304],\n",
       "       [ 54.88310919],\n",
       "       [ 54.19479534],\n",
       "       [ 53.50648148],\n",
       "       [ 52.81816763],\n",
       "       [ 52.12985377],\n",
       "       [ 51.44153992],\n",
       "       [ 50.75322607],\n",
       "       [ 50.06491221],\n",
       "       [ 49.37659836],\n",
       "       [ 48.6882845 ],\n",
       "       [ 47.99997065],\n",
       "       [ 47.3116568 ],\n",
       "       [ 46.62334294],\n",
       "       [ 45.93502909],\n",
       "       [ 45.24671524],\n",
       "       [ 44.55840138],\n",
       "       [ 43.87008753],\n",
       "       [ 43.18177367],\n",
       "       [ 42.49345982],\n",
       "       [ 41.80514597],\n",
       "       [ 41.11683211],\n",
       "       [ 40.42851826],\n",
       "       [ 39.74020441],\n",
       "       [ 39.05189055],\n",
       "       [ 38.3635767 ],\n",
       "       [ 37.67526284],\n",
       "       [ 36.98694899],\n",
       "       [ 36.29863514],\n",
       "       [ 35.61032128],\n",
       "       [ 34.92200743],\n",
       "       [ 34.23369358],\n",
       "       [ 33.54537972],\n",
       "       [ 32.85706587],\n",
       "       [ 32.16875201],\n",
       "       [ 31.48043816],\n",
       "       [ 30.79212431],\n",
       "       [ 30.10381045],\n",
       "       [ 29.4154966 ],\n",
       "       [ 28.72718275],\n",
       "       [ 28.03886889],\n",
       "       [ 27.35055504],\n",
       "       [ 26.66224118],\n",
       "       [ 25.97392733],\n",
       "       [ 25.28561348]])"
      ]
     },
     "execution_count": 90,
     "metadata": {},
     "output_type": "execute_result"
    }
   ],
   "source": [
    "# Predict the 'y' values\n",
    "\n",
    "predicted_y_values = model3.predict(X)\n",
    "predicted_y_values"
   ]
  },
  {
   "cell_type": "code",
   "execution_count": 91,
   "metadata": {},
   "outputs": [
    {
     "data": {
      "text/plain": [
       "[<matplotlib.lines.Line2D at 0x274b5f045e0>]"
      ]
     },
     "execution_count": 91,
     "metadata": {},
     "output_type": "execute_result"
    },
    {
     "data": {
      "image/png": "[encoded data removed]",
      "text/plain": [
       "<Figure size 432x288 with 1 Axes>"
      ]
     },
     "metadata": {
      "needs_background": "light"
     },
     "output_type": "display_data"
    }
   ],
   "source": [
    "# Create a scatter plot of the linear regression data\n",
    "\n",
    "plt.scatter(X, y)\n",
    "plt.title('Broad Effective Exchange Rate Projection')\n",
    "plt.plot(X, predicted_y_values, color='red')"
   ]
  },
  {
   "cell_type": "code",
   "execution_count": null,
   "metadata": {},
   "outputs": [],
   "source": [
    "from sklearn.linear_model import LinearRegression"
   ]
  },
  {
   "cell_type": "code",
   "execution_count": 93,
   "metadata": {},
   "outputs": [
    {
     "data": {
      "text/html": [
       "<div>\n",
       "<style scoped>\n",
       "    .dataframe tbody tr th:only-of-type {\n",
       "        vertical-align: middle;\n",
       "    }\n",
       "\n",
       "    .dataframe tbody tr th {\n",
       "        vertical-align: top;\n",
       "    }\n",
       "\n",
       "    .dataframe thead th {\n",
       "        text-align: right;\n",
       "    }\n",
       "</style>\n",
       "<table border=\"1\" class=\"dataframe\">\n",
       "  <thead>\n",
       "    <tr style=\"text-align: right;\">\n",
       "      <th></th>\n",
       "      <th>DATE</th>\n",
       "      <th>Exchange Rate (to USD)</th>\n",
       "    </tr>\n",
       "  </thead>\n",
       "  <tbody>\n",
       "    <tr>\n",
       "      <th>116</th>\n",
       "      <td>2021-01-01</td>\n",
       "      <td>85.8755</td>\n",
       "    </tr>\n",
       "    <tr>\n",
       "      <th>117</th>\n",
       "      <td>2021-02-01</td>\n",
       "      <td>88.5522</td>\n",
       "    </tr>\n",
       "    <tr>\n",
       "      <th>118</th>\n",
       "      <td>2021-03-01</td>\n",
       "      <td>90.9659</td>\n",
       "    </tr>\n",
       "    <tr>\n",
       "      <th>119</th>\n",
       "      <td>2021-04-01</td>\n",
       "      <td>92.7640</td>\n",
       "    </tr>\n",
       "    <tr>\n",
       "      <th>120</th>\n",
       "      <td>2021-05-01</td>\n",
       "      <td>94.0042</td>\n",
       "    </tr>\n",
       "  </tbody>\n",
       "</table>\n",
       "</div>"
      ],
      "text/plain": [
       "           DATE  Exchange Rate (to USD)\n",
       "116  2021-01-01                 85.8755\n",
       "117  2021-02-01                 88.5522\n",
       "118  2021-03-01                 90.9659\n",
       "119  2021-04-01                 92.7640\n",
       "120  2021-05-01                 94.0042"
      ]
     },
     "execution_count": 93,
     "metadata": {},
     "output_type": "execute_result"
    }
   ],
   "source": [
    "# Since the data for monthly exchange rate data to USD doesn't link up in terms of date, I chose to do the import down below\n",
    "# the consolidated dataframe.\n",
    "\n",
    "import pandas as pd \n",
    "\n",
    "df3 = pd.read_csv ('../Data/Argentina/Argentina Monthly Exchange Rate.csv')\n",
    "\n",
    "df3['Exchange Rate (to USD)'] = df3['ARGCCUSMA02STM']\n",
    "\n",
    "df3.drop(columns=['ARGCCUSMA02STM'], inplace=True)\n",
    "\n",
    "df3_copy = df3\n",
    "\n",
    "df3_copy.tail()"
   ]
  },
  {
   "cell_type": "code",
   "execution_count": 99,
   "metadata": {},
   "outputs": [
    {
     "data": {
      "text/plain": [
       "LinearRegression()"
      ]
     },
     "execution_count": 99,
     "metadata": {},
     "output_type": "execute_result"
    }
   ],
   "source": [
    "# Initialize new regression model\n",
    "\n",
    "model4 = LinearRegression()\n",
    "model4"
   ]
  },
  {
   "cell_type": "code",
   "execution_count": 100,
   "metadata": {},
   "outputs": [],
   "source": [
    "X = df3_copy.index.values.reshape(-1,1)\n",
    "y = df3_copy['Exchange Rate (to USD)'].values.reshape(-1,1)"
   ]
  },
  {
   "cell_type": "code",
   "execution_count": 101,
   "metadata": {},
   "outputs": [
    {
     "data": {
      "text/plain": [
       "LinearRegression()"
      ]
     },
     "execution_count": 101,
     "metadata": {},
     "output_type": "execute_result"
    }
   ],
   "source": [
    "# Fit the data to the model\n",
    "\n",
    "model4.fit(X, y)"
   ]
  },
  {
   "cell_type": "code",
   "execution_count": 102,
   "metadata": {},
   "outputs": [
    {
     "data": {
      "text/plain": [
       "array([[-1.31575955e+01],\n",
       "       [-1.25319183e+01],\n",
       "       [-1.19062411e+01],\n",
       "       [-1.12805639e+01],\n",
       "       [-1.06548867e+01],\n",
       "       [-1.00292095e+01],\n",
       "       [-9.40353233e+00],\n",
       "       [-8.77785514e+00],\n",
       "       [-8.15217794e+00],\n",
       "       [-7.52650074e+00],\n",
       "       [-6.90082355e+00],\n",
       "       [-6.27514635e+00],\n",
       "       [-5.64946915e+00],\n",
       "       [-5.02379196e+00],\n",
       "       [-4.39811476e+00],\n",
       "       [-3.77243756e+00],\n",
       "       [-3.14676037e+00],\n",
       "       [-2.52108317e+00],\n",
       "       [-1.89540597e+00],\n",
       "       [-1.26972877e+00],\n",
       "       [-6.44051578e-01],\n",
       "       [-1.83743811e-02],\n",
       "       [ 6.07302816e-01],\n",
       "       [ 1.23298001e+00],\n",
       "       [ 1.85865721e+00],\n",
       "       [ 2.48433441e+00],\n",
       "       [ 3.11001160e+00],\n",
       "       [ 3.73568880e+00],\n",
       "       [ 4.36136600e+00],\n",
       "       [ 4.98704319e+00],\n",
       "       [ 5.61272039e+00],\n",
       "       [ 6.23839759e+00],\n",
       "       [ 6.86407478e+00],\n",
       "       [ 7.48975198e+00],\n",
       "       [ 8.11542918e+00],\n",
       "       [ 8.74110637e+00],\n",
       "       [ 9.36678357e+00],\n",
       "       [ 9.99246077e+00],\n",
       "       [ 1.06181380e+01],\n",
       "       [ 1.12438152e+01],\n",
       "       [ 1.18694924e+01],\n",
       "       [ 1.24951696e+01],\n",
       "       [ 1.31208468e+01],\n",
       "       [ 1.37465239e+01],\n",
       "       [ 1.43722011e+01],\n",
       "       [ 1.49978783e+01],\n",
       "       [ 1.56235555e+01],\n",
       "       [ 1.62492327e+01],\n",
       "       [ 1.68749099e+01],\n",
       "       [ 1.75005871e+01],\n",
       "       [ 1.81262643e+01],\n",
       "       [ 1.87519415e+01],\n",
       "       [ 1.93776187e+01],\n",
       "       [ 2.00032959e+01],\n",
       "       [ 2.06289731e+01],\n",
       "       [ 2.12546503e+01],\n",
       "       [ 2.18803275e+01],\n",
       "       [ 2.25060047e+01],\n",
       "       [ 2.31316819e+01],\n",
       "       [ 2.37573591e+01],\n",
       "       [ 2.43830363e+01],\n",
       "       [ 2.50087135e+01],\n",
       "       [ 2.56343907e+01],\n",
       "       [ 2.62600679e+01],\n",
       "       [ 2.68857451e+01],\n",
       "       [ 2.75114223e+01],\n",
       "       [ 2.81370995e+01],\n",
       "       [ 2.87627767e+01],\n",
       "       [ 2.93884539e+01],\n",
       "       [ 3.00141311e+01],\n",
       "       [ 3.06398083e+01],\n",
       "       [ 3.12654855e+01],\n",
       "       [ 3.18911627e+01],\n",
       "       [ 3.25168399e+01],\n",
       "       [ 3.31425171e+01],\n",
       "       [ 3.37681942e+01],\n",
       "       [ 3.43938714e+01],\n",
       "       [ 3.50195486e+01],\n",
       "       [ 3.56452258e+01],\n",
       "       [ 3.62709030e+01],\n",
       "       [ 3.68965802e+01],\n",
       "       [ 3.75222574e+01],\n",
       "       [ 3.81479346e+01],\n",
       "       [ 3.87736118e+01],\n",
       "       [ 3.93992890e+01],\n",
       "       [ 4.00249662e+01],\n",
       "       [ 4.06506434e+01],\n",
       "       [ 4.12763206e+01],\n",
       "       [ 4.19019978e+01],\n",
       "       [ 4.25276750e+01],\n",
       "       [ 4.31533522e+01],\n",
       "       [ 4.37790294e+01],\n",
       "       [ 4.44047066e+01],\n",
       "       [ 4.50303838e+01],\n",
       "       [ 4.56560610e+01],\n",
       "       [ 4.62817382e+01],\n",
       "       [ 4.69074154e+01],\n",
       "       [ 4.75330926e+01],\n",
       "       [ 4.81587698e+01],\n",
       "       [ 4.87844470e+01],\n",
       "       [ 4.94101242e+01],\n",
       "       [ 5.00358014e+01],\n",
       "       [ 5.06614786e+01],\n",
       "       [ 5.12871558e+01],\n",
       "       [ 5.19128330e+01],\n",
       "       [ 5.25385102e+01],\n",
       "       [ 5.31641873e+01],\n",
       "       [ 5.37898645e+01],\n",
       "       [ 5.44155417e+01],\n",
       "       [ 5.50412189e+01],\n",
       "       [ 5.56668961e+01],\n",
       "       [ 5.62925733e+01],\n",
       "       [ 5.69182505e+01],\n",
       "       [ 5.75439277e+01],\n",
       "       [ 5.81696049e+01],\n",
       "       [ 5.87952821e+01],\n",
       "       [ 5.94209593e+01],\n",
       "       [ 6.00466365e+01],\n",
       "       [ 6.06723137e+01],\n",
       "       [ 6.12979909e+01],\n",
       "       [ 6.19236681e+01]])"
      ]
     },
     "execution_count": 102,
     "metadata": {},
     "output_type": "execute_result"
    }
   ],
   "source": [
    "# Predict the 'y' values\n",
    "\n",
    "predicted_y_values = model4.predict(X)\n",
    "predicted_y_values"
   ]
  },
  {
   "cell_type": "code",
   "execution_count": 103,
   "metadata": {},
   "outputs": [
    {
     "data": {
      "text/plain": [
       "[<matplotlib.lines.Line2D at 0x274b605b0a0>]"
      ]
     },
     "execution_count": 103,
     "metadata": {},
     "output_type": "execute_result"
    },
    {
     "data": {
      "image/png": "[encoded data removed]",
      "text/plain": [
       "<Figure size 432x288 with 1 Axes>"
      ]
     },
     "metadata": {
      "needs_background": "light"
     },
     "output_type": "display_data"
    }
   ],
   "source": [
    "# Plot the results of the model \n",
    "\n",
    "plt.scatter(X, y)\n",
    "plt.title('Exchange Rate (to USD) Projection')\n",
    "plt.plot(X, predicted_y_values, color='red')"
   ]
  },
  {
   "cell_type": "code",
   "execution_count": null,
   "metadata": {},
   "outputs": [],
   "source": [
    "# Note: the last two models are more accurate because they have more data points."
   ]
  }
 ],
 "metadata": {
  "kernelspec": {
   "display_name": "Python 3",
   "language": "python",
   "name": "python3"
  },
  "language_info": {
   "codemirror_mode": {
    "name": "ipython",
    "version": 3
   },
   "file_extension": ".py",
   "mimetype": "text/x-python",
   "name": "python",
   "nbconvert_exporter": "python",
   "pygments_lexer": "ipython3",
   "version": "3.8.5"
  }
 },
 "nbformat": 4,
 "nbformat_minor": 4
}
