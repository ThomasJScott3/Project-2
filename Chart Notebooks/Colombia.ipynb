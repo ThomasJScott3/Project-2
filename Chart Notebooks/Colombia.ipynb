{
 "cells": [
  {
   "cell_type": "code",
   "execution_count": 1,
   "metadata": {},
   "outputs": [
    {
     "data": {
      "text/html": [
       "<div>\n",
       "<style scoped>\n",
       "    .dataframe tbody tr th:only-of-type {\n",
       "        vertical-align: middle;\n",
       "    }\n",
       "\n",
       "    .dataframe tbody tr th {\n",
       "        vertical-align: top;\n",
       "    }\n",
       "\n",
       "    .dataframe thead th {\n",
       "        text-align: right;\n",
       "    }\n",
       "</style>\n",
       "<table border=\"1\" class=\"dataframe\">\n",
       "  <thead>\n",
       "    <tr style=\"text-align: right;\">\n",
       "      <th></th>\n",
       "      <th>DATE</th>\n",
       "      <th>GDP Percent Change</th>\n",
       "    </tr>\n",
       "  </thead>\n",
       "  <tbody>\n",
       "    <tr>\n",
       "      <th>0</th>\n",
       "      <td>1980-01-01</td>\n",
       "      <td>4.429</td>\n",
       "    </tr>\n",
       "    <tr>\n",
       "      <th>1</th>\n",
       "      <td>1981-01-01</td>\n",
       "      <td>2.277</td>\n",
       "    </tr>\n",
       "    <tr>\n",
       "      <th>2</th>\n",
       "      <td>1982-01-01</td>\n",
       "      <td>0.948</td>\n",
       "    </tr>\n",
       "    <tr>\n",
       "      <th>3</th>\n",
       "      <td>1983-01-01</td>\n",
       "      <td>1.574</td>\n",
       "    </tr>\n",
       "    <tr>\n",
       "      <th>4</th>\n",
       "      <td>1984-01-01</td>\n",
       "      <td>3.351</td>\n",
       "    </tr>\n",
       "  </tbody>\n",
       "</table>\n",
       "</div>"
      ],
      "text/plain": [
       "         DATE  GDP Percent Change\n",
       "0  1980-01-01               4.429\n",
       "1  1981-01-01               2.277\n",
       "2  1982-01-01               0.948\n",
       "3  1983-01-01               1.574\n",
       "4  1984-01-01               3.351"
      ]
     },
     "execution_count": 1,
     "metadata": {},
     "output_type": "execute_result"
    }
   ],
   "source": [
    "# Import the CSV, rename the column and display the first few values\n",
    "\n",
    "import pandas as pd\n",
    "\n",
    "df = pd.read_csv('../Data/Colombia/Colombia GDP Change.csv')\n",
    "\n",
    "df['GDP Percent Change'] = df['COLNGDPRPCH']\n",
    "\n",
    "df.drop(columns=['COLNGDPRPCH'], inplace=True)\n",
    "\n",
    "df.head()"
   ]
  },
  {
   "cell_type": "code",
   "execution_count": 8,
   "metadata": {},
   "outputs": [
    {
     "data": {
      "text/html": [
       "<div>\n",
       "<style scoped>\n",
       "    .dataframe tbody tr th:only-of-type {\n",
       "        vertical-align: middle;\n",
       "    }\n",
       "\n",
       "    .dataframe tbody tr th {\n",
       "        vertical-align: top;\n",
       "    }\n",
       "\n",
       "    .dataframe thead th {\n",
       "        text-align: right;\n",
       "    }\n",
       "</style>\n",
       "<table border=\"1\" class=\"dataframe\">\n",
       "  <thead>\n",
       "    <tr style=\"text-align: right;\">\n",
       "      <th></th>\n",
       "      <th>DATE</th>\n",
       "      <th>Colombia Exchange Rate (to USD)</th>\n",
       "    </tr>\n",
       "  </thead>\n",
       "  <tbody>\n",
       "    <tr>\n",
       "      <th>0</th>\n",
       "      <td>1950-01-01</td>\n",
       "      <td>1.949824</td>\n",
       "    </tr>\n",
       "    <tr>\n",
       "      <th>1</th>\n",
       "      <td>1951-01-01</td>\n",
       "      <td>2.400553</td>\n",
       "    </tr>\n",
       "    <tr>\n",
       "      <th>2</th>\n",
       "      <td>1952-01-01</td>\n",
       "      <td>2.510486</td>\n",
       "    </tr>\n",
       "    <tr>\n",
       "      <th>3</th>\n",
       "      <td>1953-01-01</td>\n",
       "      <td>2.510486</td>\n",
       "    </tr>\n",
       "    <tr>\n",
       "      <th>4</th>\n",
       "      <td>1954-01-01</td>\n",
       "      <td>2.510486</td>\n",
       "    </tr>\n",
       "  </tbody>\n",
       "</table>\n",
       "</div>"
      ],
      "text/plain": [
       "         DATE  Colombia Exchange Rate (to USD)\n",
       "0  1950-01-01                         1.949824\n",
       "1  1951-01-01                         2.400553\n",
       "2  1952-01-01                         2.510486\n",
       "3  1953-01-01                         2.510486\n",
       "4  1954-01-01                         2.510486"
      ]
     },
     "execution_count": 8,
     "metadata": {},
     "output_type": "execute_result"
    }
   ],
   "source": [
    "# Import CSV, change column name and show top values of dataframe\n",
    "\n",
    "import pandas as pd\n",
    "\n",
    "df1 = pd.read_csv('../Data/Colombia/Colombia Exchange Rate.csv')\n",
    "\n",
    "df1['Colombia Exchange Rate (to USD)'] = df1['FXRATECOA618NUPN']\n",
    "\n",
    "df1.drop(columns=['FXRATECOA618NUPN'], inplace=True)\n",
    "\n",
    "df1.head()"
   ]
  },
  {
   "cell_type": "code",
   "execution_count": 9,
   "metadata": {},
   "outputs": [
    {
     "data": {
      "text/html": [
       "<div>\n",
       "<style scoped>\n",
       "    .dataframe tbody tr th:only-of-type {\n",
       "        vertical-align: middle;\n",
       "    }\n",
       "\n",
       "    .dataframe tbody tr th {\n",
       "        vertical-align: top;\n",
       "    }\n",
       "\n",
       "    .dataframe thead th {\n",
       "        text-align: right;\n",
       "    }\n",
       "</style>\n",
       "<table border=\"1\" class=\"dataframe\">\n",
       "  <thead>\n",
       "    <tr style=\"text-align: right;\">\n",
       "      <th></th>\n",
       "      <th>DATE</th>\n",
       "      <th>Colombia Balance of Payments</th>\n",
       "    </tr>\n",
       "  </thead>\n",
       "  <tbody>\n",
       "    <tr>\n",
       "      <th>0</th>\n",
       "      <td>1980-01-01</td>\n",
       "      <td>-0.032</td>\n",
       "    </tr>\n",
       "    <tr>\n",
       "      <th>1</th>\n",
       "      <td>1981-01-01</td>\n",
       "      <td>-3.400</td>\n",
       "    </tr>\n",
       "    <tr>\n",
       "      <th>2</th>\n",
       "      <td>1982-01-01</td>\n",
       "      <td>-5.320</td>\n",
       "    </tr>\n",
       "    <tr>\n",
       "      <th>3</th>\n",
       "      <td>1983-01-01</td>\n",
       "      <td>-5.243</td>\n",
       "    </tr>\n",
       "    <tr>\n",
       "      <th>4</th>\n",
       "      <td>1984-01-01</td>\n",
       "      <td>-3.922</td>\n",
       "    </tr>\n",
       "  </tbody>\n",
       "</table>\n",
       "</div>"
      ],
      "text/plain": [
       "         DATE  Colombia Balance of Payments\n",
       "0  1980-01-01                        -0.032\n",
       "1  1981-01-01                        -3.400\n",
       "2  1982-01-01                        -5.320\n",
       "3  1983-01-01                        -5.243\n",
       "4  1984-01-01                        -3.922"
      ]
     },
     "execution_count": 9,
     "metadata": {},
     "output_type": "execute_result"
    }
   ],
   "source": [
    "# Create a new dataframe, change the column name and display the first value\n",
    "\n",
    "import pandas as pd\n",
    "\n",
    "df2 = pd.read_csv('../Data/Colombia/Colombia Balance of Payments.csv')\n",
    "\n",
    "df2['Colombia Balance of Payments'] = df2['COLBCAGDPBP6']\n",
    "\n",
    "df2.drop(columns=['COLBCAGDPBP6'], inplace=True)\n",
    "\n",
    "df2.head()"
   ]
  },
  {
   "cell_type": "code",
   "execution_count": 14,
   "metadata": {},
   "outputs": [
    {
     "data": {
      "text/plain": [
       "<AxesSubplot:>"
      ]
     },
     "execution_count": 14,
     "metadata": {},
     "output_type": "execute_result"
    },
    {
     "data": {
      "image/png": "[encoded data removed]",
      "text/plain": [
       "<Figure size 432x288 with 1 Axes>"
      ]
     },
     "metadata": {
      "needs_background": "light"
     },
     "output_type": "display_data"
    }
   ],
   "source": [
    "# Display a plot of GDP data before the regression model is run\n",
    "\n",
    "df.plot.line()"
   ]
  },
  {
   "cell_type": "code",
   "execution_count": 15,
   "metadata": {},
   "outputs": [
    {
     "data": {
      "text/plain": [
       "<AxesSubplot:>"
      ]
     },
     "execution_count": 15,
     "metadata": {},
     "output_type": "execute_result"
    },
    {
     "data": {
      "image/png": "[encoded data removed]",
      "text/plain": [
       "<Figure size 432x288 with 1 Axes>"
      ]
     },
     "metadata": {
      "needs_background": "light"
     },
     "output_type": "display_data"
    }
   ],
   "source": [
    "# Display a plot of exchange rate data before the regression model is run\n",
    "\n",
    "df1.plot.line()"
   ]
  },
  {
   "cell_type": "code",
   "execution_count": 16,
   "metadata": {},
   "outputs": [
    {
     "data": {
      "text/plain": [
       "<AxesSubplot:>"
      ]
     },
     "execution_count": 16,
     "metadata": {},
     "output_type": "execute_result"
    },
    {
     "data": {
      "image/png": "[encoded data removed]",
      "text/plain": [
       "<Figure size 432x288 with 1 Axes>"
      ]
     },
     "metadata": {
      "needs_background": "light"
     },
     "output_type": "display_data"
    }
   ],
   "source": [
    "# Display a plot of balance of payments data before the regression model is run\n",
    "\n",
    "df2.plot.line()"
   ]
  },
  {
   "cell_type": "code",
   "execution_count": 17,
   "metadata": {},
   "outputs": [],
   "source": [
    "from sklearn.linear_model import LinearRegression"
   ]
  },
  {
   "cell_type": "code",
   "execution_count": 18,
   "metadata": {},
   "outputs": [
    {
     "data": {
      "text/plain": [
       "LinearRegression()"
      ]
     },
     "execution_count": 18,
     "metadata": {},
     "output_type": "execute_result"
    }
   ],
   "source": [
    "# Initialize the linear regression model\n",
    "\n",
    "model = LinearRegression()\n",
    "model"
   ]
  },
  {
   "cell_type": "code",
   "execution_count": 19,
   "metadata": {},
   "outputs": [],
   "source": [
    "# Reshape the dataframe\n",
    "\n",
    "X = df.index.values.reshape(-1,1)\n",
    "y = df['GDP Percent Change'].values.reshape(-1,1)"
   ]
  },
  {
   "cell_type": "code",
   "execution_count": 20,
   "metadata": {},
   "outputs": [
    {
     "data": {
      "text/plain": [
       "LinearRegression()"
      ]
     },
     "execution_count": 20,
     "metadata": {},
     "output_type": "execute_result"
    }
   ],
   "source": [
    "# Fit the model\n",
    "\n",
    "model.fit(X, y)"
   ]
  },
  {
   "cell_type": "code",
   "execution_count": 21,
   "metadata": {},
   "outputs": [
    {
     "data": {
      "text/plain": [
       "array([[3.53340691],\n",
       "       [3.52470282],\n",
       "       [3.51599873],\n",
       "       [3.50729463],\n",
       "       [3.49859054],\n",
       "       [3.48988645],\n",
       "       [3.48118235],\n",
       "       [3.47247826],\n",
       "       [3.46377417],\n",
       "       [3.45507007],\n",
       "       [3.44636598],\n",
       "       [3.43766189],\n",
       "       [3.42895779],\n",
       "       [3.4202537 ],\n",
       "       [3.41154961],\n",
       "       [3.40284551],\n",
       "       [3.39414142],\n",
       "       [3.38543733],\n",
       "       [3.37673323],\n",
       "       [3.36802914],\n",
       "       [3.35932505],\n",
       "       [3.35062095],\n",
       "       [3.34191686],\n",
       "       [3.33321277],\n",
       "       [3.32450867],\n",
       "       [3.31580458],\n",
       "       [3.30710049],\n",
       "       [3.29839639],\n",
       "       [3.2896923 ],\n",
       "       [3.28098821],\n",
       "       [3.27228411],\n",
       "       [3.26358002],\n",
       "       [3.25487593],\n",
       "       [3.24617183],\n",
       "       [3.23746774],\n",
       "       [3.22876364],\n",
       "       [3.22005955],\n",
       "       [3.21135546],\n",
       "       [3.20265136],\n",
       "       [3.19394727],\n",
       "       [3.18524318],\n",
       "       [3.17653908],\n",
       "       [3.16783499],\n",
       "       [3.1591309 ],\n",
       "       [3.1504268 ],\n",
       "       [3.14172271],\n",
       "       [3.13301862]])"
      ]
     },
     "execution_count": 21,
     "metadata": {},
     "output_type": "execute_result"
    }
   ],
   "source": [
    "# Predict the 'y' values\n",
    "\n",
    "predicted_y_values = model.predict(X)\n",
    "predicted_y_values"
   ]
  },
  {
   "cell_type": "code",
   "execution_count": 23,
   "metadata": {},
   "outputs": [],
   "source": [
    "import matplotlib.pyplot as plt"
   ]
  },
  {
   "cell_type": "code",
   "execution_count": 24,
   "metadata": {},
   "outputs": [
    {
     "data": {
      "text/plain": [
       "[<matplotlib.lines.Line2D at 0x12a00e66d30>]"
      ]
     },
     "execution_count": 24,
     "metadata": {},
     "output_type": "execute_result"
    },
    {
     "data": {
      "image/png": "[encoded data removed]",
      "text/plain": [
       "<Figure size 432x288 with 1 Axes>"
      ]
     },
     "metadata": {
      "needs_background": "light"
     },
     "output_type": "display_data"
    }
   ],
   "source": [
    "# Plot the linear regression line as a scatter plot\n",
    "\n",
    "plt.scatter(X, y)\n",
    "\n",
    "plt.title('Colombia GDP Percent Change Projection')\n",
    "\n",
    "plt.plot(X, predicted_y_values, color='red')"
   ]
  },
  {
   "cell_type": "code",
   "execution_count": 25,
   "metadata": {},
   "outputs": [
    {
     "data": {
      "text/plain": [
       "LinearRegression()"
      ]
     },
     "execution_count": 25,
     "metadata": {},
     "output_type": "execute_result"
    }
   ],
   "source": [
    "# Initialize the new model\n",
    "\n",
    "model2 = LinearRegression()\n",
    "model2"
   ]
  },
  {
   "cell_type": "code",
   "execution_count": 26,
   "metadata": {},
   "outputs": [],
   "source": [
    "# Reshape the exchange rate data\n",
    "\n",
    "X = df1.index.values.reshape(-1,1)\n",
    "y = df1['Colombia Exchange Rate (to USD)'].values.reshape(-1,1)"
   ]
  },
  {
   "cell_type": "code",
   "execution_count": 27,
   "metadata": {},
   "outputs": [
    {
     "data": {
      "text/plain": [
       "LinearRegression()"
      ]
     },
     "execution_count": 27,
     "metadata": {},
     "output_type": "execute_result"
    }
   ],
   "source": [
    "# Fit the data to the model\n",
    "\n",
    "model2.fit(X, y)"
   ]
  },
  {
   "cell_type": "code",
   "execution_count": 28,
   "metadata": {},
   "outputs": [
    {
     "data": {
      "text/plain": [
       "array([[-635.59986295],\n",
       "       [-594.13403257],\n",
       "       [-552.66820219],\n",
       "       [-511.2023718 ],\n",
       "       [-469.73654142],\n",
       "       [-428.27071104],\n",
       "       [-386.80488066],\n",
       "       [-345.33905028],\n",
       "       [-303.8732199 ],\n",
       "       [-262.40738952],\n",
       "       [-220.94155914],\n",
       "       [-179.47572876],\n",
       "       [-138.00989837],\n",
       "       [ -96.54406799],\n",
       "       [ -55.07823761],\n",
       "       [ -13.61240723],\n",
       "       [  27.85342315],\n",
       "       [  69.31925353],\n",
       "       [ 110.78508391],\n",
       "       [ 152.25091429],\n",
       "       [ 193.71674468],\n",
       "       [ 235.18257506],\n",
       "       [ 276.64840544],\n",
       "       [ 318.11423582],\n",
       "       [ 359.5800662 ],\n",
       "       [ 401.04589658],\n",
       "       [ 442.51172696],\n",
       "       [ 483.97755734],\n",
       "       [ 525.44338773],\n",
       "       [ 566.90921811],\n",
       "       [ 608.37504849],\n",
       "       [ 649.84087887],\n",
       "       [ 691.30670925],\n",
       "       [ 732.77253963],\n",
       "       [ 774.23837001],\n",
       "       [ 815.70420039],\n",
       "       [ 857.17003077],\n",
       "       [ 898.63586116],\n",
       "       [ 940.10169154],\n",
       "       [ 981.56752192],\n",
       "       [1023.0333523 ],\n",
       "       [1064.49918268],\n",
       "       [1105.96501306],\n",
       "       [1147.43084344],\n",
       "       [1188.89667382],\n",
       "       [1230.36250421],\n",
       "       [1271.82833459],\n",
       "       [1313.29416497],\n",
       "       [1354.75999535],\n",
       "       [1396.22582573],\n",
       "       [1437.69165611],\n",
       "       [1479.15748649],\n",
       "       [1520.62331687],\n",
       "       [1562.08914726],\n",
       "       [1603.55497764],\n",
       "       [1645.02080802],\n",
       "       [1686.4866384 ],\n",
       "       [1727.95246878],\n",
       "       [1769.41829916],\n",
       "       [1810.88412954],\n",
       "       [1852.34995992]])"
      ]
     },
     "execution_count": 28,
     "metadata": {},
     "output_type": "execute_result"
    }
   ],
   "source": [
    "# Predict the 'y' values\n",
    "\n",
    "predicted_y_values = model2.predict(X)\n",
    "predicted_y_values"
   ]
  },
  {
   "cell_type": "code",
   "execution_count": 29,
   "metadata": {},
   "outputs": [
    {
     "data": {
      "text/plain": [
       "[<matplotlib.lines.Line2D at 0x12a00e9ffa0>]"
      ]
     },
     "execution_count": 29,
     "metadata": {},
     "output_type": "execute_result"
    },
    {
     "data": {
      "image/png": "[encoded data removed]",
      "text/plain": [
       "<Figure size 432x288 with 1 Axes>"
      ]
     },
     "metadata": {
      "needs_background": "light"
     },
     "output_type": "display_data"
    }
   ],
   "source": [
    "# Display the linear regression model as a scatter plot\n",
    "\n",
    "plt.scatter(X, y)\n",
    "\n",
    "plt.title('Colombia Exchange Rate (to USD) Projection')\n",
    "\n",
    "plt.plot(X, predicted_y_values, color='red')"
   ]
  },
  {
   "cell_type": "code",
   "execution_count": null,
   "metadata": {},
   "outputs": [],
   "source": []
  }
 ],
 "metadata": {
  "kernelspec": {
   "display_name": "Python 3",
   "language": "python",
   "name": "python3"
  },
  "language_info": {
   "codemirror_mode": {
    "name": "ipython",
    "version": 3
   },
   "file_extension": ".py",
   "mimetype": "text/x-python",
   "name": "python",
   "nbconvert_exporter": "python",
   "pygments_lexer": "ipython3",
   "version": "3.8.5"
  }
 },
 "nbformat": 4,
 "nbformat_minor": 4
}
