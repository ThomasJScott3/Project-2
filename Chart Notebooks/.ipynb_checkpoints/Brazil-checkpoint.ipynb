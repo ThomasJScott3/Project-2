{
 "cells": [
  {
   "cell_type": "code",
   "execution_count": null,
   "metadata": {},
   "outputs": [],
   "source": [
    "# Note: Each CSV import is modular so they can be run without having to run the entire notebook \n",
    "# if you want to examine the dataframes"
   ]
  },
  {
   "cell_type": "code",
   "execution_count": 1,
   "metadata": {},
   "outputs": [
    {
     "data": {
      "text/html": [
       "<div>\n",
       "<style scoped>\n",
       "    .dataframe tbody tr th:only-of-type {\n",
       "        vertical-align: middle;\n",
       "    }\n",
       "\n",
       "    .dataframe tbody tr th {\n",
       "        vertical-align: top;\n",
       "    }\n",
       "\n",
       "    .dataframe thead th {\n",
       "        text-align: right;\n",
       "    }\n",
       "</style>\n",
       "<table border=\"1\" class=\"dataframe\">\n",
       "  <thead>\n",
       "    <tr style=\"text-align: right;\">\n",
       "      <th></th>\n",
       "      <th>DATE</th>\n",
       "      <th>Exchange Rate (USD)</th>\n",
       "    </tr>\n",
       "  </thead>\n",
       "  <tbody>\n",
       "    <tr>\n",
       "      <th>0</th>\n",
       "      <td>4/1/96 12:00 AM</td>\n",
       "      <td>0.995195</td>\n",
       "    </tr>\n",
       "    <tr>\n",
       "      <th>1</th>\n",
       "      <td>7/1/96 12:00 AM</td>\n",
       "      <td>1.013492</td>\n",
       "    </tr>\n",
       "    <tr>\n",
       "      <th>2</th>\n",
       "      <td>10/1/96 12:00 AM</td>\n",
       "      <td>1.030894</td>\n",
       "    </tr>\n",
       "    <tr>\n",
       "      <th>3</th>\n",
       "      <td>1/1/97 12:00 AM</td>\n",
       "      <td>1.049470</td>\n",
       "    </tr>\n",
       "    <tr>\n",
       "      <th>4</th>\n",
       "      <td>4/1/97 12:00 AM</td>\n",
       "      <td>1.067766</td>\n",
       "    </tr>\n",
       "  </tbody>\n",
       "</table>\n",
       "</div>"
      ],
      "text/plain": [
       "               DATE  Exchange Rate (USD)\n",
       "0   4/1/96 12:00 AM             0.995195\n",
       "1   7/1/96 12:00 AM             1.013492\n",
       "2  10/1/96 12:00 AM             1.030894\n",
       "3   1/1/97 12:00 AM             1.049470\n",
       "4   4/1/97 12:00 AM             1.067766"
      ]
     },
     "execution_count": 1,
     "metadata": {},
     "output_type": "execute_result"
    }
   ],
   "source": [
    "# Do initial imports, read CSV, create dataframe and show first 5 values\n",
    "\n",
    "import pandas as pd\n",
    "\n",
    "df = pd.read_csv (\"../Data/Brazil/Brazil_Exchange_Rate.csv\")\n",
    "\n",
    "df['Exchange Rate (USD)'] = df['DEXBZUS']\n",
    "\n",
    "df.drop(columns=['DEXBZUS'], inplace=True)\n",
    "\n",
    "df.head()"
   ]
  },
  {
   "cell_type": "code",
   "execution_count": 2,
   "metadata": {},
   "outputs": [
    {
     "data": {
      "text/html": [
       "<div>\n",
       "<style scoped>\n",
       "    .dataframe tbody tr th:only-of-type {\n",
       "        vertical-align: middle;\n",
       "    }\n",
       "\n",
       "    .dataframe tbody tr th {\n",
       "        vertical-align: top;\n",
       "    }\n",
       "\n",
       "    .dataframe thead th {\n",
       "        text-align: right;\n",
       "    }\n",
       "</style>\n",
       "<table border=\"1\" class=\"dataframe\">\n",
       "  <thead>\n",
       "    <tr style=\"text-align: right;\">\n",
       "      <th></th>\n",
       "      <th>DATE</th>\n",
       "      <th>Consumer Price Index (CPI)</th>\n",
       "    </tr>\n",
       "  </thead>\n",
       "  <tbody>\n",
       "    <tr>\n",
       "      <th>0</th>\n",
       "      <td>4/1/96 12:00 AM</td>\n",
       "      <td>30.397845</td>\n",
       "    </tr>\n",
       "    <tr>\n",
       "      <th>1</th>\n",
       "      <td>7/1/96 12:00 AM</td>\n",
       "      <td>31.209501</td>\n",
       "    </tr>\n",
       "    <tr>\n",
       "      <th>2</th>\n",
       "      <td>10/1/96 12:00 AM</td>\n",
       "      <td>31.496654</td>\n",
       "    </tr>\n",
       "    <tr>\n",
       "      <th>3</th>\n",
       "      <td>1/1/97 12:00 AM</td>\n",
       "      <td>32.163535</td>\n",
       "    </tr>\n",
       "    <tr>\n",
       "      <th>4</th>\n",
       "      <td>4/1/97 12:00 AM</td>\n",
       "      <td>32.758723</td>\n",
       "    </tr>\n",
       "  </tbody>\n",
       "</table>\n",
       "</div>"
      ],
      "text/plain": [
       "               DATE  Consumer Price Index (CPI)\n",
       "0   4/1/96 12:00 AM                   30.397845\n",
       "1   7/1/96 12:00 AM                   31.209501\n",
       "2  10/1/96 12:00 AM                   31.496654\n",
       "3   1/1/97 12:00 AM                   32.163535\n",
       "4   4/1/97 12:00 AM                   32.758723"
      ]
     },
     "execution_count": 2,
     "metadata": {},
     "output_type": "execute_result"
    }
   ],
   "source": [
    "# Import Pandas as well as CSV and rename columns\n",
    "\n",
    "import pandas as pd\n",
    "\n",
    "df1 = pd.read_csv ('../Data/Brazil/Brazil_CPI.csv')\n",
    "\n",
    "df1['Consumer Price Index (CPI)'] = df1['BRACPIALLMINMEI']\n",
    "\n",
    "df1.drop(columns=['BRACPIALLMINMEI'], inplace=True)\n",
    "\n",
    "df1.head()"
   ]
  },
  {
   "cell_type": "code",
   "execution_count": 3,
   "metadata": {},
   "outputs": [
    {
     "data": {
      "text/html": [
       "<div>\n",
       "<style scoped>\n",
       "    .dataframe tbody tr th:only-of-type {\n",
       "        vertical-align: middle;\n",
       "    }\n",
       "\n",
       "    .dataframe tbody tr th {\n",
       "        vertical-align: top;\n",
       "    }\n",
       "\n",
       "    .dataframe thead th {\n",
       "        text-align: right;\n",
       "    }\n",
       "</style>\n",
       "<table border=\"1\" class=\"dataframe\">\n",
       "  <thead>\n",
       "    <tr style=\"text-align: right;\">\n",
       "      <th></th>\n",
       "      <th>DATE</th>\n",
       "      <th>Outcome</th>\n",
       "      <th>GDP Percent Change</th>\n",
       "    </tr>\n",
       "  </thead>\n",
       "  <tbody>\n",
       "    <tr>\n",
       "      <th>95</th>\n",
       "      <td>1/1/20 12:00 AM</td>\n",
       "      <td>0</td>\n",
       "      <td>-2.24214</td>\n",
       "    </tr>\n",
       "    <tr>\n",
       "      <th>96</th>\n",
       "      <td>4/1/20 12:00 AM</td>\n",
       "      <td>1</td>\n",
       "      <td>-9.16333</td>\n",
       "    </tr>\n",
       "    <tr>\n",
       "      <th>97</th>\n",
       "      <td>7/1/20 12:00 AM</td>\n",
       "      <td>1</td>\n",
       "      <td>7.76391</td>\n",
       "    </tr>\n",
       "    <tr>\n",
       "      <th>98</th>\n",
       "      <td>10/1/20 12:00 AM</td>\n",
       "      <td>0</td>\n",
       "      <td>3.22444</td>\n",
       "    </tr>\n",
       "    <tr>\n",
       "      <th>99</th>\n",
       "      <td>1/1/21 12:00 AM</td>\n",
       "      <td>1</td>\n",
       "      <td>1.20231</td>\n",
       "    </tr>\n",
       "  </tbody>\n",
       "</table>\n",
       "</div>"
      ],
      "text/plain": [
       "                DATE  Outcome  GDP Percent Change\n",
       "95   1/1/20 12:00 AM        0            -2.24214\n",
       "96   4/1/20 12:00 AM        1            -9.16333\n",
       "97   7/1/20 12:00 AM        1             7.76391\n",
       "98  10/1/20 12:00 AM        0             3.22444\n",
       "99   1/1/21 12:00 AM        1             1.20231"
      ]
     },
     "execution_count": 3,
     "metadata": {},
     "output_type": "execute_result"
    }
   ],
   "source": [
    "# Import CSV, rename columns and display last values in the dataframe\n",
    "\n",
    "df2 = pd.read_csv ('../Data/Brazil/Brazil_GDP_Pct.csv')\n",
    "\n",
    "df2['GDP Percent Change'] = df2['NAEXKP01BRQ652S_PCH']\n",
    "\n",
    "df2.drop(columns=['NAEXKP01BRQ652S_PCH'], inplace=True)\n",
    "\n",
    "df2.tail()"
   ]
  },
  {
   "cell_type": "code",
   "execution_count": 5,
   "metadata": {},
   "outputs": [
    {
     "data": {
      "text/html": [
       "<div>\n",
       "<style scoped>\n",
       "    .dataframe tbody tr th:only-of-type {\n",
       "        vertical-align: middle;\n",
       "    }\n",
       "\n",
       "    .dataframe tbody tr th {\n",
       "        vertical-align: top;\n",
       "    }\n",
       "\n",
       "    .dataframe thead th {\n",
       "        text-align: right;\n",
       "    }\n",
       "</style>\n",
       "<table border=\"1\" class=\"dataframe\">\n",
       "  <thead>\n",
       "    <tr style=\"text-align: right;\">\n",
       "      <th></th>\n",
       "      <th>Exchange Rate (USD)</th>\n",
       "      <th>Consumer Price Index (CPI)</th>\n",
       "    </tr>\n",
       "  </thead>\n",
       "  <tbody>\n",
       "    <tr>\n",
       "      <th>0</th>\n",
       "      <td>0.995195</td>\n",
       "      <td>30.397845</td>\n",
       "    </tr>\n",
       "    <tr>\n",
       "      <th>1</th>\n",
       "      <td>1.013492</td>\n",
       "      <td>31.209501</td>\n",
       "    </tr>\n",
       "    <tr>\n",
       "      <th>2</th>\n",
       "      <td>1.030894</td>\n",
       "      <td>31.496654</td>\n",
       "    </tr>\n",
       "    <tr>\n",
       "      <th>3</th>\n",
       "      <td>1.049470</td>\n",
       "      <td>32.163535</td>\n",
       "    </tr>\n",
       "    <tr>\n",
       "      <th>4</th>\n",
       "      <td>1.067766</td>\n",
       "      <td>32.758723</td>\n",
       "    </tr>\n",
       "  </tbody>\n",
       "</table>\n",
       "</div>"
      ],
      "text/plain": [
       "   Exchange Rate (USD)  Consumer Price Index (CPI)\n",
       "0             0.995195                   30.397845\n",
       "1             1.013492                   31.209501\n",
       "2             1.030894                   31.496654\n",
       "3             1.049470                   32.163535\n",
       "4             1.067766                   32.758723"
      ]
     },
     "execution_count": 5,
     "metadata": {},
     "output_type": "execute_result"
    }
   ],
   "source": [
    "# Merge the first two dataframes\n",
    "\n",
    "frames = pd.merge(df,df1)\n",
    "\n",
    "frames.drop(columns=['DATE'], inplace=True)\n",
    "\n",
    "frames.head()"
   ]
  },
  {
   "cell_type": "code",
   "execution_count": 7,
   "metadata": {},
   "outputs": [
    {
     "data": {
      "text/html": [
       "<div>\n",
       "<style scoped>\n",
       "    .dataframe tbody tr th:only-of-type {\n",
       "        vertical-align: middle;\n",
       "    }\n",
       "\n",
       "    .dataframe tbody tr th {\n",
       "        vertical-align: top;\n",
       "    }\n",
       "\n",
       "    .dataframe thead th {\n",
       "        text-align: right;\n",
       "    }\n",
       "</style>\n",
       "<table border=\"1\" class=\"dataframe\">\n",
       "  <thead>\n",
       "    <tr style=\"text-align: right;\">\n",
       "      <th></th>\n",
       "      <th>Exchange Rate (USD)</th>\n",
       "      <th>Consumer Price Index (CPI)</th>\n",
       "      <th>GDP Percent Change</th>\n",
       "    </tr>\n",
       "  </thead>\n",
       "  <tbody>\n",
       "    <tr>\n",
       "      <th>0</th>\n",
       "      <td>0.995195</td>\n",
       "      <td>30.397845</td>\n",
       "      <td>1.11898</td>\n",
       "    </tr>\n",
       "    <tr>\n",
       "      <th>1</th>\n",
       "      <td>1.013492</td>\n",
       "      <td>31.209501</td>\n",
       "      <td>3.73664</td>\n",
       "    </tr>\n",
       "    <tr>\n",
       "      <th>2</th>\n",
       "      <td>1.030894</td>\n",
       "      <td>31.496654</td>\n",
       "      <td>-0.96294</td>\n",
       "    </tr>\n",
       "    <tr>\n",
       "      <th>3</th>\n",
       "      <td>1.049470</td>\n",
       "      <td>32.163535</td>\n",
       "      <td>1.03609</td>\n",
       "    </tr>\n",
       "    <tr>\n",
       "      <th>4</th>\n",
       "      <td>1.067766</td>\n",
       "      <td>32.758723</td>\n",
       "      <td>0.56903</td>\n",
       "    </tr>\n",
       "  </tbody>\n",
       "</table>\n",
       "</div>"
      ],
      "text/plain": [
       "   Exchange Rate (USD)  Consumer Price Index (CPI)  GDP Percent Change\n",
       "0             0.995195                   30.397845             1.11898\n",
       "1             1.013492                   31.209501             3.73664\n",
       "2             1.030894                   31.496654            -0.96294\n",
       "3             1.049470                   32.163535             1.03609\n",
       "4             1.067766                   32.758723             0.56903"
      ]
     },
     "execution_count": 7,
     "metadata": {},
     "output_type": "execute_result"
    }
   ],
   "source": [
    "# Merge all the dataframes into a consolidated one\n",
    "\n",
    "Brazil_df = pd.merge(frames, df2, on= frames.index, how=\"outer\")\n",
    "\n",
    "Brazil_df.drop(columns=['DATE'], inplace=True)\n",
    "\n",
    "Brazil_df.drop(columns=['key_0'], inplace=True)\n",
    "\n",
    "Brazil_df.drop(columns=['Outcome'], inplace=True)\n",
    "\n",
    "\n",
    "Brazil_df.head()"
   ]
  },
  {
   "cell_type": "code",
   "execution_count": 8,
   "metadata": {},
   "outputs": [
    {
     "data": {
      "text/plain": [
       "<AxesSubplot:>"
      ]
     },
     "execution_count": 8,
     "metadata": {},
     "output_type": "execute_result"
    },
    {
     "data": {
      "image/png": "[encoded data removed]",
      "text/plain": [
       "<Figure size 432x288 with 1 Axes>"
      ]
     },
     "metadata": {
      "needs_background": "light"
     },
     "output_type": "display_data"
    }
   ],
   "source": [
    "# Plot the new dataframe and review visualized data \n",
    "\n",
    "Brazil_df.plot.line()"
   ]
  },
  {
   "cell_type": "code",
   "execution_count": 10,
   "metadata": {},
   "outputs": [],
   "source": [
    "import matplotlib.pyplot as plt"
   ]
  },
  {
   "cell_type": "code",
   "execution_count": 11,
   "metadata": {},
   "outputs": [
    {
     "data": {
      "text/plain": [
       "<matplotlib.collections.PathCollection at 0x2059d8707f0>"
      ]
     },
     "execution_count": 11,
     "metadata": {},
     "output_type": "execute_result"
    },
    {
     "data": {
      "image/png": "[encoded data removed]",
      "text/plain": [
       "<Figure size 432x288 with 1 Axes>"
      ]
     },
     "metadata": {
      "needs_background": "light"
     },
     "output_type": "display_data"
    }
   ],
   "source": [
    "# Show sample data as scatter plot\n",
    "\n",
    "plt.scatter(Brazil_df.index , Brazil_df['GDP Percent Change'])"
   ]
  },
  {
   "cell_type": "code",
   "execution_count": 46,
   "metadata": {},
   "outputs": [],
   "source": []
  },
  {
   "cell_type": "code",
   "execution_count": 13,
   "metadata": {},
   "outputs": [],
   "source": [
    "from sklearn.linear_model import LinearRegression"
   ]
  },
  {
   "cell_type": "code",
   "execution_count": 14,
   "metadata": {},
   "outputs": [
    {
     "data": {
      "text/plain": [
       "LinearRegression()"
      ]
     },
     "execution_count": 14,
     "metadata": {},
     "output_type": "execute_result"
    }
   ],
   "source": [
    "# Initialize linear regression model\n",
    "\n",
    "model = LinearRegression()\n",
    "model"
   ]
  },
  {
   "cell_type": "code",
   "execution_count": 15,
   "metadata": {},
   "outputs": [],
   "source": [
    "# Reshape the values from the consolidated dataframe\n",
    "\n",
    "X = Brazil_df.index.values.reshape(-1,1)\n",
    "y = Brazil_df['GDP Percent Change'].values.reshape(-1,1)"
   ]
  },
  {
   "cell_type": "code",
   "execution_count": 16,
   "metadata": {},
   "outputs": [
    {
     "data": {
      "text/plain": [
       "LinearRegression()"
      ]
     },
     "execution_count": 16,
     "metadata": {},
     "output_type": "execute_result"
    }
   ],
   "source": [
    "# Fit the data to the model\n",
    "\n",
    "model.fit(X, y)"
   ]
  },
  {
   "cell_type": "code",
   "execution_count": 17,
   "metadata": {},
   "outputs": [
    {
     "data": {
      "text/plain": [
       "array([[0.94698407],\n",
       "       [0.9391992 ],\n",
       "       [0.93141434],\n",
       "       [0.92362947],\n",
       "       [0.9158446 ],\n",
       "       [0.90805973],\n",
       "       [0.90027486],\n",
       "       [0.89248999],\n",
       "       [0.88470513],\n",
       "       [0.87692026],\n",
       "       [0.86913539],\n",
       "       [0.86135052],\n",
       "       [0.85356565],\n",
       "       [0.84578079],\n",
       "       [0.83799592],\n",
       "       [0.83021105],\n",
       "       [0.82242618],\n",
       "       [0.81464131],\n",
       "       [0.80685645],\n",
       "       [0.79907158],\n",
       "       [0.79128671],\n",
       "       [0.78350184],\n",
       "       [0.77571697],\n",
       "       [0.7679321 ],\n",
       "       [0.76014724],\n",
       "       [0.75236237],\n",
       "       [0.7445775 ],\n",
       "       [0.73679263],\n",
       "       [0.72900776],\n",
       "       [0.7212229 ],\n",
       "       [0.71343803],\n",
       "       [0.70565316],\n",
       "       [0.69786829],\n",
       "       [0.69008342],\n",
       "       [0.68229856],\n",
       "       [0.67451369],\n",
       "       [0.66672882],\n",
       "       [0.65894395],\n",
       "       [0.65115908],\n",
       "       [0.64337422],\n",
       "       [0.63558935],\n",
       "       [0.62780448],\n",
       "       [0.62001961],\n",
       "       [0.61223474],\n",
       "       [0.60444987],\n",
       "       [0.59666501],\n",
       "       [0.58888014],\n",
       "       [0.58109527],\n",
       "       [0.5733104 ],\n",
       "       [0.56552553],\n",
       "       [0.55774067],\n",
       "       [0.5499558 ],\n",
       "       [0.54217093],\n",
       "       [0.53438606],\n",
       "       [0.52660119],\n",
       "       [0.51881633],\n",
       "       [0.51103146],\n",
       "       [0.50324659],\n",
       "       [0.49546172],\n",
       "       [0.48767685],\n",
       "       [0.47989198],\n",
       "       [0.47210712],\n",
       "       [0.46432225],\n",
       "       [0.45653738],\n",
       "       [0.44875251],\n",
       "       [0.44096764],\n",
       "       [0.43318278],\n",
       "       [0.42539791],\n",
       "       [0.41761304],\n",
       "       [0.40982817],\n",
       "       [0.4020433 ],\n",
       "       [0.39425844],\n",
       "       [0.38647357],\n",
       "       [0.3786887 ],\n",
       "       [0.37090383],\n",
       "       [0.36311896],\n",
       "       [0.3553341 ],\n",
       "       [0.34754923],\n",
       "       [0.33976436],\n",
       "       [0.33197949],\n",
       "       [0.32419462],\n",
       "       [0.31640975],\n",
       "       [0.30862489],\n",
       "       [0.30084002],\n",
       "       [0.29305515],\n",
       "       [0.28527028],\n",
       "       [0.27748541],\n",
       "       [0.26970055],\n",
       "       [0.26191568],\n",
       "       [0.25413081],\n",
       "       [0.24634594],\n",
       "       [0.23856107],\n",
       "       [0.23077621],\n",
       "       [0.22299134],\n",
       "       [0.21520647],\n",
       "       [0.2074216 ],\n",
       "       [0.19963673],\n",
       "       [0.19185186],\n",
       "       [0.184067  ],\n",
       "       [0.17628213]])"
      ]
     },
     "execution_count": 17,
     "metadata": {},
     "output_type": "execute_result"
    }
   ],
   "source": [
    "# Predict the 'y' values\n",
    "\n",
    "predicted_y_values = model.predict(X)\n",
    "predicted_y_values"
   ]
  },
  {
   "cell_type": "code",
   "execution_count": 18,
   "metadata": {},
   "outputs": [
    {
     "data": {
      "text/plain": [
       "[<matplotlib.lines.Line2D at 0x2059ffceb80>]"
      ]
     },
     "execution_count": 18,
     "metadata": {},
     "output_type": "execute_result"
    },
    {
     "data": {
      "image/png": "[encoded data removed]",
      "text/plain": [
       "<Figure size 432x288 with 1 Axes>"
      ]
     },
     "metadata": {
      "needs_background": "light"
     },
     "output_type": "display_data"
    }
   ],
   "source": [
    "# Show linear regression results as a scatter plot\n",
    "\n",
    "plt.scatter(X, y)\n",
    "\n",
    "plt.title('Brazil GDP Percent Change Projection')\n",
    "\n",
    "plt.plot(X, predicted_y_values, color='red')"
   ]
  },
  {
   "cell_type": "code",
   "execution_count": 19,
   "metadata": {},
   "outputs": [
    {
     "data": {
      "text/plain": [
       "<matplotlib.collections.PathCollection at 0x205a0008b50>"
      ]
     },
     "execution_count": 19,
     "metadata": {},
     "output_type": "execute_result"
    },
    {
     "data": {
      "image/png": "[encoded data removed]",
      "text/plain": [
       "<Figure size 432x288 with 1 Axes>"
      ]
     },
     "metadata": {
      "needs_background": "light"
     },
     "output_type": "display_data"
    }
   ],
   "source": [
    "# SHow sample data as a scatter plot\n",
    "\n",
    "plt.scatter(Brazil_df.index , Brazil_df['Exchange Rate (USD)'])"
   ]
  },
  {
   "cell_type": "code",
   "execution_count": 20,
   "metadata": {},
   "outputs": [
    {
     "data": {
      "text/plain": [
       "LinearRegression()"
      ]
     },
     "execution_count": 20,
     "metadata": {},
     "output_type": "execute_result"
    }
   ],
   "source": [
    "# Initialize new linear regression model\n",
    "\n",
    "model2 = LinearRegression()\n",
    "\n",
    "model2"
   ]
  },
  {
   "cell_type": "code",
   "execution_count": 21,
   "metadata": {},
   "outputs": [],
   "source": [
    "# Reshape values\n",
    "\n",
    "X = Brazil_df.index.values.reshape(-1,1)\n",
    "y = Brazil_df['Exchange Rate (USD)'].values.reshape(-1,1)"
   ]
  },
  {
   "cell_type": "code",
   "execution_count": 22,
   "metadata": {},
   "outputs": [
    {
     "data": {
      "text/plain": [
       "LinearRegression()"
      ]
     },
     "execution_count": 22,
     "metadata": {},
     "output_type": "execute_result"
    }
   ],
   "source": [
    "# Fit the data to the model\n",
    "\n",
    "model2.fit(X, y)"
   ]
  },
  {
   "cell_type": "code",
   "execution_count": 23,
   "metadata": {},
   "outputs": [
    {
     "data": {
      "text/plain": [
       "array([[1.26889471],\n",
       "       [1.29364216],\n",
       "       [1.31838961],\n",
       "       [1.34313706],\n",
       "       [1.3678845 ],\n",
       "       [1.39263195],\n",
       "       [1.4173794 ],\n",
       "       [1.44212685],\n",
       "       [1.4668743 ],\n",
       "       [1.49162175],\n",
       "       [1.51636919],\n",
       "       [1.54111664],\n",
       "       [1.56586409],\n",
       "       [1.59061154],\n",
       "       [1.61535899],\n",
       "       [1.64010644],\n",
       "       [1.66485388],\n",
       "       [1.68960133],\n",
       "       [1.71434878],\n",
       "       [1.73909623],\n",
       "       [1.76384368],\n",
       "       [1.78859112],\n",
       "       [1.81333857],\n",
       "       [1.83808602],\n",
       "       [1.86283347],\n",
       "       [1.88758092],\n",
       "       [1.91232837],\n",
       "       [1.93707581],\n",
       "       [1.96182326],\n",
       "       [1.98657071],\n",
       "       [2.01131816],\n",
       "       [2.03606561],\n",
       "       [2.06081306],\n",
       "       [2.0855605 ],\n",
       "       [2.11030795],\n",
       "       [2.1350554 ],\n",
       "       [2.15980285],\n",
       "       [2.1845503 ],\n",
       "       [2.20929774],\n",
       "       [2.23404519],\n",
       "       [2.25879264],\n",
       "       [2.28354009],\n",
       "       [2.30828754],\n",
       "       [2.33303499],\n",
       "       [2.35778243],\n",
       "       [2.38252988],\n",
       "       [2.40727733],\n",
       "       [2.43202478],\n",
       "       [2.45677223],\n",
       "       [2.48151968],\n",
       "       [2.50626712],\n",
       "       [2.53101457],\n",
       "       [2.55576202],\n",
       "       [2.58050947],\n",
       "       [2.60525692],\n",
       "       [2.63000436],\n",
       "       [2.65475181],\n",
       "       [2.67949926],\n",
       "       [2.70424671],\n",
       "       [2.72899416],\n",
       "       [2.75374161],\n",
       "       [2.77848905],\n",
       "       [2.8032365 ],\n",
       "       [2.82798395],\n",
       "       [2.8527314 ],\n",
       "       [2.87747885],\n",
       "       [2.9022263 ],\n",
       "       [2.92697374],\n",
       "       [2.95172119],\n",
       "       [2.97646864],\n",
       "       [3.00121609],\n",
       "       [3.02596354],\n",
       "       [3.05071098],\n",
       "       [3.07545843],\n",
       "       [3.10020588],\n",
       "       [3.12495333],\n",
       "       [3.14970078],\n",
       "       [3.17444823],\n",
       "       [3.19919567],\n",
       "       [3.22394312],\n",
       "       [3.24869057],\n",
       "       [3.27343802],\n",
       "       [3.29818547],\n",
       "       [3.32293291],\n",
       "       [3.34768036],\n",
       "       [3.37242781],\n",
       "       [3.39717526],\n",
       "       [3.42192271],\n",
       "       [3.44667016],\n",
       "       [3.4714176 ],\n",
       "       [3.49616505],\n",
       "       [3.5209125 ],\n",
       "       [3.54565995],\n",
       "       [3.5704074 ],\n",
       "       [3.59515485],\n",
       "       [3.61990229],\n",
       "       [3.64464974],\n",
       "       [3.66939719],\n",
       "       [3.69414464],\n",
       "       [3.71889209]])"
      ]
     },
     "execution_count": 23,
     "metadata": {},
     "output_type": "execute_result"
    }
   ],
   "source": [
    "# Predict the 'y' values\n",
    "\n",
    "predicted_y_values = model2.predict(X)\n",
    "predicted_y_values"
   ]
  },
  {
   "cell_type": "code",
   "execution_count": 24,
   "metadata": {},
   "outputs": [
    {
     "data": {
      "text/plain": [
       "[<matplotlib.lines.Line2D at 0x205a0060550>]"
      ]
     },
     "execution_count": 24,
     "metadata": {},
     "output_type": "execute_result"
    },
    {
     "data": {
      "image/png": "[encoded data removed]",
      "text/plain": [
       "<Figure size 432x288 with 1 Axes>"
      ]
     },
     "metadata": {
      "needs_background": "light"
     },
     "output_type": "display_data"
    }
   ],
   "source": [
    "# Show results of the linear regression model as a scatter plot\n",
    "\n",
    "plt.scatter(X, y)\n",
    "\n",
    "plt.title('Brazil Exchange Rate Projection (to USD)')\n",
    "\n",
    "plt.plot(X, predicted_y_values, color='red')"
   ]
  },
  {
   "cell_type": "code",
   "execution_count": 25,
   "metadata": {},
   "outputs": [
    {
     "data": {
      "text/plain": [
       "<matplotlib.collections.PathCollection at 0x205a00b0400>"
      ]
     },
     "execution_count": 25,
     "metadata": {},
     "output_type": "execute_result"
    },
    {
     "data": {
      "image/png": "[encoded data removed]",
      "text/plain": [
       "<Figure size 432x288 with 1 Axes>"
      ]
     },
     "metadata": {
      "needs_background": "light"
     },
     "output_type": "display_data"
    }
   ],
   "source": [
    "# Show sample data as a scatter plot\n",
    "\n",
    "plt.scatter(Brazil_df.index , Brazil_df['Consumer Price Index (CPI)'])"
   ]
  },
  {
   "cell_type": "code",
   "execution_count": 26,
   "metadata": {},
   "outputs": [
    {
     "data": {
      "text/plain": [
       "LinearRegression()"
      ]
     },
     "execution_count": 26,
     "metadata": {},
     "output_type": "execute_result"
    }
   ],
   "source": [
    "# Initialize new linear regression model\n",
    "\n",
    "model3 = LinearRegression()\n",
    "model3"
   ]
  },
  {
   "cell_type": "code",
   "execution_count": 27,
   "metadata": {},
   "outputs": [],
   "source": [
    "# Reshape the values for CPI\n",
    "\n",
    "X = Brazil_df.index.values.reshape(-1,1)\n",
    "y = Brazil_df['Consumer Price Index (CPI)'].values.reshape(-1,1)"
   ]
  },
  {
   "cell_type": "code",
   "execution_count": 28,
   "metadata": {},
   "outputs": [
    {
     "data": {
      "text/plain": [
       "LinearRegression()"
      ]
     },
     "execution_count": 28,
     "metadata": {},
     "output_type": "execute_result"
    }
   ],
   "source": [
    "# Fit the data to the new model\n",
    "\n",
    "model3.fit(X, y)"
   ]
  },
  {
   "cell_type": "code",
   "execution_count": 29,
   "metadata": {},
   "outputs": [
    {
     "data": {
      "text/plain": [
       "array([[ 20.94911485],\n",
       "       [ 21.97288932],\n",
       "       [ 22.99666378],\n",
       "       [ 24.02043824],\n",
       "       [ 25.04421271],\n",
       "       [ 26.06798717],\n",
       "       [ 27.09176163],\n",
       "       [ 28.1155361 ],\n",
       "       [ 29.13931056],\n",
       "       [ 30.16308502],\n",
       "       [ 31.18685949],\n",
       "       [ 32.21063395],\n",
       "       [ 33.23440841],\n",
       "       [ 34.25818288],\n",
       "       [ 35.28195734],\n",
       "       [ 36.3057318 ],\n",
       "       [ 37.32950627],\n",
       "       [ 38.35328073],\n",
       "       [ 39.37705519],\n",
       "       [ 40.40082966],\n",
       "       [ 41.42460412],\n",
       "       [ 42.44837858],\n",
       "       [ 43.47215305],\n",
       "       [ 44.49592751],\n",
       "       [ 45.51970197],\n",
       "       [ 46.54347644],\n",
       "       [ 47.5672509 ],\n",
       "       [ 48.59102536],\n",
       "       [ 49.61479983],\n",
       "       [ 50.63857429],\n",
       "       [ 51.66234875],\n",
       "       [ 52.68612322],\n",
       "       [ 53.70989768],\n",
       "       [ 54.73367214],\n",
       "       [ 55.75744661],\n",
       "       [ 56.78122107],\n",
       "       [ 57.80499553],\n",
       "       [ 58.82877   ],\n",
       "       [ 59.85254446],\n",
       "       [ 60.87631892],\n",
       "       [ 61.90009339],\n",
       "       [ 62.92386785],\n",
       "       [ 63.94764231],\n",
       "       [ 64.97141678],\n",
       "       [ 65.99519124],\n",
       "       [ 67.01896571],\n",
       "       [ 68.04274017],\n",
       "       [ 69.06651463],\n",
       "       [ 70.0902891 ],\n",
       "       [ 71.11406356],\n",
       "       [ 72.13783802],\n",
       "       [ 73.16161249],\n",
       "       [ 74.18538695],\n",
       "       [ 75.20916141],\n",
       "       [ 76.23293588],\n",
       "       [ 77.25671034],\n",
       "       [ 78.2804848 ],\n",
       "       [ 79.30425927],\n",
       "       [ 80.32803373],\n",
       "       [ 81.35180819],\n",
       "       [ 82.37558266],\n",
       "       [ 83.39935712],\n",
       "       [ 84.42313158],\n",
       "       [ 85.44690605],\n",
       "       [ 86.47068051],\n",
       "       [ 87.49445497],\n",
       "       [ 88.51822944],\n",
       "       [ 89.5420039 ],\n",
       "       [ 90.56577836],\n",
       "       [ 91.58955283],\n",
       "       [ 92.61332729],\n",
       "       [ 93.63710175],\n",
       "       [ 94.66087622],\n",
       "       [ 95.68465068],\n",
       "       [ 96.70842514],\n",
       "       [ 97.73219961],\n",
       "       [ 98.75597407],\n",
       "       [ 99.77974853],\n",
       "       [100.803523  ],\n",
       "       [101.82729746],\n",
       "       [102.85107192],\n",
       "       [103.87484639],\n",
       "       [104.89862085],\n",
       "       [105.92239531],\n",
       "       [106.94616978],\n",
       "       [107.96994424],\n",
       "       [108.9937187 ],\n",
       "       [110.01749317],\n",
       "       [111.04126763],\n",
       "       [112.06504209],\n",
       "       [113.08881656],\n",
       "       [114.11259102],\n",
       "       [115.13636548],\n",
       "       [116.16013995],\n",
       "       [117.18391441],\n",
       "       [118.20768887],\n",
       "       [119.23146334],\n",
       "       [120.2552378 ],\n",
       "       [121.27901226],\n",
       "       [122.30278673]])"
      ]
     },
     "execution_count": 29,
     "metadata": {},
     "output_type": "execute_result"
    }
   ],
   "source": [
    "# Predict the 'y' values\n",
    "predicted_y_values = model3.predict(X)\n",
    "predicted_y_values"
   ]
  },
  {
   "cell_type": "code",
   "execution_count": 30,
   "metadata": {},
   "outputs": [
    {
     "data": {
      "text/plain": [
       "[<matplotlib.lines.Line2D at 0x205a0017bb0>]"
      ]
     },
     "execution_count": 30,
     "metadata": {},
     "output_type": "execute_result"
    },
    {
     "data": {
      "image/png": "[encoded data removed]",
      "text/plain": [
       "<Figure size 432x288 with 1 Axes>"
      ]
     },
     "metadata": {
      "needs_background": "light"
     },
     "output_type": "display_data"
    }
   ],
   "source": [
    "# Show the results of the linear regression model as a scatter plot\n",
    "\n",
    "plt.scatter(X, y)\n",
    "plt.title('Brazil CPI Projection')\n",
    "plt.plot(X, predicted_y_values, color='red')"
   ]
  },
  {
   "cell_type": "code",
   "execution_count": null,
   "metadata": {},
   "outputs": [],
   "source": [
    "# Note: the last two models are more accurate because they have more data points."
   ]
  }
 ],
 "metadata": {
  "kernelspec": {
   "display_name": "Python 3",
   "language": "python",
   "name": "python3"
  },
  "language_info": {
   "codemirror_mode": {
    "name": "ipython",
    "version": 3
   },
   "file_extension": ".py",
   "mimetype": "text/x-python",
   "name": "python",
   "nbconvert_exporter": "python",
   "pygments_lexer": "ipython3",
   "version": "3.8.5"
  }
 },
 "nbformat": 4,
 "nbformat_minor": 4
}
