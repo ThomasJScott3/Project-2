{
 "cells": [
  {
   "cell_type": "code",
   "execution_count": 84,
   "metadata": {},
   "outputs": [
    {
     "data": {
      "text/html": [
       "<div>\n",
       "<style scoped>\n",
       "    .dataframe tbody tr th:only-of-type {\n",
       "        vertical-align: middle;\n",
       "    }\n",
       "\n",
       "    .dataframe tbody tr th {\n",
       "        vertical-align: top;\n",
       "    }\n",
       "\n",
       "    .dataframe thead th {\n",
       "        text-align: right;\n",
       "    }\n",
       "</style>\n",
       "<table border=\"1\" class=\"dataframe\">\n",
       "  <thead>\n",
       "    <tr style=\"text-align: right;\">\n",
       "      <th></th>\n",
       "      <th>DATE</th>\n",
       "      <th>RBARBIS</th>\n",
       "    </tr>\n",
       "  </thead>\n",
       "  <tbody>\n",
       "    <tr>\n",
       "      <th>0</th>\n",
       "      <td>1994-01-01</td>\n",
       "      <td>254.28</td>\n",
       "    </tr>\n",
       "    <tr>\n",
       "      <th>1</th>\n",
       "      <td>1994-02-01</td>\n",
       "      <td>252.86</td>\n",
       "    </tr>\n",
       "    <tr>\n",
       "      <th>2</th>\n",
       "      <td>1994-03-01</td>\n",
       "      <td>250.13</td>\n",
       "    </tr>\n",
       "    <tr>\n",
       "      <th>3</th>\n",
       "      <td>1994-04-01</td>\n",
       "      <td>250.50</td>\n",
       "    </tr>\n",
       "    <tr>\n",
       "      <th>4</th>\n",
       "      <td>1994-05-01</td>\n",
       "      <td>248.76</td>\n",
       "    </tr>\n",
       "  </tbody>\n",
       "</table>\n",
       "</div>"
      ],
      "text/plain": [
       "         DATE  RBARBIS\n",
       "0  1994-01-01   254.28\n",
       "1  1994-02-01   252.86\n",
       "2  1994-03-01   250.13\n",
       "3  1994-04-01   250.50\n",
       "4  1994-05-01   248.76"
      ]
     },
     "execution_count": 84,
     "metadata": {},
     "output_type": "execute_result"
    }
   ],
   "source": [
    "import pandas as pd\n",
    "df = pd.read_csv ('../Data/Argentina/Argentina Exchange Rate.csv')\n",
    "df.head()"
   ]
  },
  {
   "cell_type": "code",
   "execution_count": 3,
   "metadata": {},
   "outputs": [
    {
     "data": {
      "text/html": [
       "<div>\n",
       "<style scoped>\n",
       "    .dataframe tbody tr th:only-of-type {\n",
       "        vertical-align: middle;\n",
       "    }\n",
       "\n",
       "    .dataframe tbody tr th {\n",
       "        vertical-align: top;\n",
       "    }\n",
       "\n",
       "    .dataframe thead th {\n",
       "        text-align: right;\n",
       "    }\n",
       "</style>\n",
       "<table border=\"1\" class=\"dataframe\">\n",
       "  <thead>\n",
       "    <tr style=\"text-align: right;\">\n",
       "      <th></th>\n",
       "      <th>DATE</th>\n",
       "      <th>Exchange Rate (USD)</th>\n",
       "    </tr>\n",
       "  </thead>\n",
       "  <tbody>\n",
       "    <tr>\n",
       "      <th>0</th>\n",
       "      <td>1980-01-01</td>\n",
       "      <td>-1.101</td>\n",
       "    </tr>\n",
       "    <tr>\n",
       "      <th>1</th>\n",
       "      <td>1981-01-01</td>\n",
       "      <td>-3.014</td>\n",
       "    </tr>\n",
       "    <tr>\n",
       "      <th>2</th>\n",
       "      <td>1982-01-01</td>\n",
       "      <td>-3.095</td>\n",
       "    </tr>\n",
       "    <tr>\n",
       "      <th>3</th>\n",
       "      <td>1983-01-01</td>\n",
       "      <td>-2.095</td>\n",
       "    </tr>\n",
       "    <tr>\n",
       "      <th>4</th>\n",
       "      <td>1984-01-01</td>\n",
       "      <td>-1.911</td>\n",
       "    </tr>\n",
       "  </tbody>\n",
       "</table>\n",
       "</div>"
      ],
      "text/plain": [
       "         DATE  Exchange Rate (USD)\n",
       "0  1980-01-01               -1.101\n",
       "1  1981-01-01               -3.014\n",
       "2  1982-01-01               -3.095\n",
       "3  1983-01-01               -2.095\n",
       "4  1984-01-01               -1.911"
      ]
     },
     "execution_count": 3,
     "metadata": {},
     "output_type": "execute_result"
    }
   ],
   "source": [
    "df['Exchange Rate (USD)'] = df['ARGBCAGDPBP6']\n",
    "\n",
    "df.drop(columns=['ARGBCAGDPBP6'], inplace=True)\n",
    "\n",
    "df.head()"
   ]
  },
  {
   "cell_type": "code",
   "execution_count": 6,
   "metadata": {},
   "outputs": [
    {
     "data": {
      "text/plain": [
       "<AxesSubplot:>"
      ]
     },
     "execution_count": 6,
     "metadata": {},
     "output_type": "execute_result"
    },
    {
     "data": {
      "image/png": "[encoded data removed]",
      "text/plain": [
       "<Figure size 432x288 with 1 Axes>"
      ]
     },
     "metadata": {
      "needs_background": "light"
     },
     "output_type": "display_data"
    }
   ],
   "source": [
    "df.plot.line()"
   ]
  },
  {
   "cell_type": "code",
   "execution_count": 15,
   "metadata": {},
   "outputs": [
    {
     "data": {
      "text/html": [
       "<div>\n",
       "<style scoped>\n",
       "    .dataframe tbody tr th:only-of-type {\n",
       "        vertical-align: middle;\n",
       "    }\n",
       "\n",
       "    .dataframe tbody tr th {\n",
       "        vertical-align: top;\n",
       "    }\n",
       "\n",
       "    .dataframe thead th {\n",
       "        text-align: right;\n",
       "    }\n",
       "</style>\n",
       "<table border=\"1\" class=\"dataframe\">\n",
       "  <thead>\n",
       "    <tr style=\"text-align: right;\">\n",
       "      <th></th>\n",
       "      <th>DATE</th>\n",
       "      <th>Consumer Price Index</th>\n",
       "    </tr>\n",
       "  </thead>\n",
       "  <tbody>\n",
       "    <tr>\n",
       "      <th>0</th>\n",
       "      <td>1996-01-01</td>\n",
       "      <td>34.0693</td>\n",
       "    </tr>\n",
       "    <tr>\n",
       "      <th>1</th>\n",
       "      <td>1997-01-01</td>\n",
       "      <td>36.4372</td>\n",
       "    </tr>\n",
       "    <tr>\n",
       "      <th>2</th>\n",
       "      <td>1998-01-01</td>\n",
       "      <td>40.6470</td>\n",
       "    </tr>\n",
       "    <tr>\n",
       "      <th>3</th>\n",
       "      <td>1999-01-01</td>\n",
       "      <td>43.3912</td>\n",
       "    </tr>\n",
       "    <tr>\n",
       "      <th>4</th>\n",
       "      <td>2000-01-01</td>\n",
       "      <td>47.2893</td>\n",
       "    </tr>\n",
       "  </tbody>\n",
       "</table>\n",
       "</div>"
      ],
      "text/plain": [
       "         DATE  Consumer Price Index\n",
       "0  1996-01-01               34.0693\n",
       "1  1997-01-01               36.4372\n",
       "2  1998-01-01               40.6470\n",
       "3  1999-01-01               43.3912\n",
       "4  2000-01-01               47.2893"
      ]
     },
     "execution_count": 15,
     "metadata": {},
     "output_type": "execute_result"
    }
   ],
   "source": [
    "import pandas as pd\n",
    "df1 = pd.read_csv ('../Data/Argentina/Argentina CPI.csv')\n",
    "\n",
    "df1['Consumer Price Index'] = df1['DDOE02PYA086NWDB']\n",
    "\n",
    "df1.drop(columns=['DDOE02PYA086NWDB'], inplace=True)\n",
    "\n",
    "df1.head()"
   ]
  },
  {
   "cell_type": "code",
   "execution_count": 65,
   "metadata": {},
   "outputs": [
    {
     "data": {
      "text/html": [
       "<div>\n",
       "<style scoped>\n",
       "    .dataframe tbody tr th:only-of-type {\n",
       "        vertical-align: middle;\n",
       "    }\n",
       "\n",
       "    .dataframe tbody tr th {\n",
       "        vertical-align: top;\n",
       "    }\n",
       "\n",
       "    .dataframe thead th {\n",
       "        text-align: right;\n",
       "    }\n",
       "</style>\n",
       "<table border=\"1\" class=\"dataframe\">\n",
       "  <thead>\n",
       "    <tr style=\"text-align: right;\">\n",
       "      <th></th>\n",
       "      <th>index</th>\n",
       "      <th>GDP Percent Change</th>\n",
       "    </tr>\n",
       "  </thead>\n",
       "  <tbody>\n",
       "    <tr>\n",
       "      <th>0</th>\n",
       "      <td>0</td>\n",
       "      <td>0.700</td>\n",
       "    </tr>\n",
       "    <tr>\n",
       "      <th>1</th>\n",
       "      <td>1</td>\n",
       "      <td>-5.744</td>\n",
       "    </tr>\n",
       "    <tr>\n",
       "      <th>2</th>\n",
       "      <td>2</td>\n",
       "      <td>-3.149</td>\n",
       "    </tr>\n",
       "    <tr>\n",
       "      <th>3</th>\n",
       "      <td>3</td>\n",
       "      <td>3.733</td>\n",
       "    </tr>\n",
       "    <tr>\n",
       "      <th>4</th>\n",
       "      <td>4</td>\n",
       "      <td>2.000</td>\n",
       "    </tr>\n",
       "  </tbody>\n",
       "</table>\n",
       "</div>"
      ],
      "text/plain": [
       "   index  GDP Percent Change\n",
       "0      0               0.700\n",
       "1      1              -5.744\n",
       "2      2              -3.149\n",
       "3      3               3.733\n",
       "4      4               2.000"
      ]
     },
     "execution_count": 65,
     "metadata": {},
     "output_type": "execute_result"
    }
   ],
   "source": [
    "import pandas as pd\n",
    "df2 = pd.read_csv ('../Data/Argentina/Argentina GDP Change.csv')\n",
    "\n",
    "df2['GDP Percent Change'] = df2['ARGNGDPRPCH']\n",
    "\n",
    "df2.drop(columns=['ARGNGDPRPCH'], inplace=True)\n",
    "\n",
    "df2_copy = df2\n",
    "df2_copy.reset_index(inplace=True)\n",
    "\n",
    "df2_copy.drop(columns=['DATE'], inplace=True)\n",
    "\n",
    "#df2['index'] = df2['index'].astype(int)\n",
    "\n",
    "df2_copy.head()"
   ]
  },
  {
   "cell_type": "code",
   "execution_count": 20,
   "metadata": {},
   "outputs": [
    {
     "data": {
      "text/plain": [
       "<AxesSubplot:>"
      ]
     },
     "execution_count": 20,
     "metadata": {},
     "output_type": "execute_result"
    },
    {
     "data": {
      "image/png": "[encoded data removed]",
      "text/plain": [
       "<Figure size 432x288 with 1 Axes>"
      ]
     },
     "metadata": {
      "needs_background": "light"
     },
     "output_type": "display_data"
    }
   ],
   "source": [
    "df2.plot.line()"
   ]
  },
  {
   "cell_type": "code",
   "execution_count": 50,
   "metadata": {},
   "outputs": [
    {
     "data": {
      "text/html": [
       "<div>\n",
       "<style scoped>\n",
       "    .dataframe tbody tr th:only-of-type {\n",
       "        vertical-align: middle;\n",
       "    }\n",
       "\n",
       "    .dataframe tbody tr th {\n",
       "        vertical-align: top;\n",
       "    }\n",
       "\n",
       "    .dataframe thead th {\n",
       "        text-align: right;\n",
       "    }\n",
       "</style>\n",
       "<table border=\"1\" class=\"dataframe\">\n",
       "  <thead>\n",
       "    <tr style=\"text-align: right;\">\n",
       "      <th></th>\n",
       "      <th>DATE</th>\n",
       "      <th>Exchange Rate (USD)</th>\n",
       "      <th>Consumer Price Index</th>\n",
       "    </tr>\n",
       "  </thead>\n",
       "  <tbody>\n",
       "    <tr>\n",
       "      <th>0</th>\n",
       "      <td>1996-01-01</td>\n",
       "      <td>-2.352</td>\n",
       "      <td>34.0693</td>\n",
       "    </tr>\n",
       "    <tr>\n",
       "      <th>1</th>\n",
       "      <td>1997-01-01</td>\n",
       "      <td>-3.753</td>\n",
       "      <td>36.4372</td>\n",
       "    </tr>\n",
       "    <tr>\n",
       "      <th>2</th>\n",
       "      <td>1998-01-01</td>\n",
       "      <td>-4.380</td>\n",
       "      <td>40.6470</td>\n",
       "    </tr>\n",
       "    <tr>\n",
       "      <th>3</th>\n",
       "      <td>1999-01-01</td>\n",
       "      <td>-3.815</td>\n",
       "      <td>43.3912</td>\n",
       "    </tr>\n",
       "    <tr>\n",
       "      <th>4</th>\n",
       "      <td>2000-01-01</td>\n",
       "      <td>-2.878</td>\n",
       "      <td>47.2893</td>\n",
       "    </tr>\n",
       "  </tbody>\n",
       "</table>\n",
       "</div>"
      ],
      "text/plain": [
       "         DATE  Exchange Rate (USD)  Consumer Price Index\n",
       "0  1996-01-01               -2.352               34.0693\n",
       "1  1997-01-01               -3.753               36.4372\n",
       "2  1998-01-01               -4.380               40.6470\n",
       "3  1999-01-01               -3.815               43.3912\n",
       "4  2000-01-01               -2.878               47.2893"
      ]
     },
     "execution_count": 50,
     "metadata": {},
     "output_type": "execute_result"
    }
   ],
   "source": [
    "frames = pd.merge(df,df1)\n",
    "\n",
    "#frames.drop(columns=['DATE'], inplace=True)\n",
    "\n",
    "\"\"\"frames.reset_index(inplace=True)\n",
    "frames['index'] = frames['index'].astype(int)\"\"\"\n",
    "\n",
    "frames.head()\n"
   ]
  },
  {
   "cell_type": "code",
   "execution_count": 54,
   "metadata": {},
   "outputs": [
    {
     "data": {
      "text/html": [
       "<div>\n",
       "<style scoped>\n",
       "    .dataframe tbody tr th:only-of-type {\n",
       "        vertical-align: middle;\n",
       "    }\n",
       "\n",
       "    .dataframe tbody tr th {\n",
       "        vertical-align: top;\n",
       "    }\n",
       "\n",
       "    .dataframe thead th {\n",
       "        text-align: right;\n",
       "    }\n",
       "</style>\n",
       "<table border=\"1\" class=\"dataframe\">\n",
       "  <thead>\n",
       "    <tr style=\"text-align: right;\">\n",
       "      <th></th>\n",
       "      <th>Exchange Rate (USD)</th>\n",
       "      <th>Consumer Price Index</th>\n",
       "      <th>GDP Percent Change</th>\n",
       "    </tr>\n",
       "  </thead>\n",
       "  <tbody>\n",
       "    <tr>\n",
       "      <th>0</th>\n",
       "      <td>-2.352</td>\n",
       "      <td>34.0693</td>\n",
       "      <td>5.527</td>\n",
       "    </tr>\n",
       "    <tr>\n",
       "      <th>1</th>\n",
       "      <td>-3.753</td>\n",
       "      <td>36.4372</td>\n",
       "      <td>8.111</td>\n",
       "    </tr>\n",
       "    <tr>\n",
       "      <th>2</th>\n",
       "      <td>-4.380</td>\n",
       "      <td>40.6470</td>\n",
       "      <td>3.850</td>\n",
       "    </tr>\n",
       "    <tr>\n",
       "      <th>3</th>\n",
       "      <td>-3.815</td>\n",
       "      <td>43.3912</td>\n",
       "      <td>-3.385</td>\n",
       "    </tr>\n",
       "    <tr>\n",
       "      <th>4</th>\n",
       "      <td>-2.878</td>\n",
       "      <td>47.2893</td>\n",
       "      <td>-0.789</td>\n",
       "    </tr>\n",
       "  </tbody>\n",
       "</table>\n",
       "</div>"
      ],
      "text/plain": [
       "   Exchange Rate (USD)  Consumer Price Index  GDP Percent Change\n",
       "0               -2.352               34.0693               5.527\n",
       "1               -3.753               36.4372               8.111\n",
       "2               -4.380               40.6470               3.850\n",
       "3               -3.815               43.3912              -3.385\n",
       "4               -2.878               47.2893              -0.789"
      ]
     },
     "execution_count": 54,
     "metadata": {},
     "output_type": "execute_result"
    }
   ],
   "source": [
    "Argentina_df = pd.merge(frames, df2)\n",
    "\n",
    "Argentina_df.drop(columns=['DATE'], inplace=True)\n",
    "\n",
    "Argentina_df.head()"
   ]
  },
  {
   "cell_type": "code",
   "execution_count": 55,
   "metadata": {},
   "outputs": [
    {
     "data": {
      "text/plain": [
       "<AxesSubplot:>"
      ]
     },
     "execution_count": 55,
     "metadata": {},
     "output_type": "execute_result"
    },
    {
     "data": {
      "image/png": "[encoded data removed]",
      "text/plain": [
       "<Figure size 432x288 with 1 Axes>"
      ]
     },
     "metadata": {
      "needs_background": "light"
     },
     "output_type": "display_data"
    }
   ],
   "source": [
    "Argentina_df.plot.line()"
   ]
  },
  {
   "cell_type": "code",
   "execution_count": 56,
   "metadata": {},
   "outputs": [],
   "source": [
    "import matplotlib.pyplot as plt"
   ]
  },
  {
   "cell_type": "code",
   "execution_count": 60,
   "metadata": {},
   "outputs": [
    {
     "data": {
      "text/plain": [
       "<matplotlib.collections.PathCollection at 0x1a74726c7f0>"
      ]
     },
     "execution_count": 60,
     "metadata": {},
     "output_type": "execute_result"
    },
    {
     "data": {
      "image/png": "[encoded data removed]",
      "text/plain": [
       "<Figure size 432x288 with 1 Axes>"
      ]
     },
     "metadata": {
      "needs_background": "light"
     },
     "output_type": "display_data"
    }
   ],
   "source": [
    "plt.scatter(df2.index , df2['GDP Percent Change'])"
   ]
  },
  {
   "cell_type": "code",
   "execution_count": 66,
   "metadata": {},
   "outputs": [],
   "source": [
    "from sklearn.linear_model import LinearRegression"
   ]
  },
  {
   "cell_type": "code",
   "execution_count": 67,
   "metadata": {},
   "outputs": [
    {
     "data": {
      "text/plain": [
       "LinearRegression()"
      ]
     },
     "execution_count": 67,
     "metadata": {},
     "output_type": "execute_result"
    }
   ],
   "source": [
    "model = LinearRegression()\n",
    "model"
   ]
  },
  {
   "cell_type": "code",
   "execution_count": 68,
   "metadata": {},
   "outputs": [],
   "source": [
    "X = df2_copy.index.values.reshape(-1,1)\n",
    "y = df2_copy['GDP Percent Change'].values.reshape(-1,1)"
   ]
  },
  {
   "cell_type": "code",
   "execution_count": 72,
   "metadata": {},
   "outputs": [
    {
     "data": {
      "text/plain": [
       "LinearRegression()"
      ]
     },
     "execution_count": 72,
     "metadata": {},
     "output_type": "execute_result"
    }
   ],
   "source": [
    "model.fit(X, y)"
   ]
  },
  {
   "cell_type": "code",
   "execution_count": 75,
   "metadata": {},
   "outputs": [
    {
     "data": {
      "text/plain": [
       "array([[1.54446809],\n",
       "       [1.55042276],\n",
       "       [1.55637743],\n",
       "       [1.5623321 ],\n",
       "       [1.56828677],\n",
       "       [1.57424144],\n",
       "       [1.58019611],\n",
       "       [1.58615079],\n",
       "       [1.59210546],\n",
       "       [1.59806013],\n",
       "       [1.6040148 ],\n",
       "       [1.60996947],\n",
       "       [1.61592414],\n",
       "       [1.62187882],\n",
       "       [1.62783349],\n",
       "       [1.63378816],\n",
       "       [1.63974283],\n",
       "       [1.6456975 ],\n",
       "       [1.65165217],\n",
       "       [1.65760685],\n",
       "       [1.66356152],\n",
       "       [1.66951619],\n",
       "       [1.67547086],\n",
       "       [1.68142553],\n",
       "       [1.6873802 ],\n",
       "       [1.69333488],\n",
       "       [1.69928955],\n",
       "       [1.70524422],\n",
       "       [1.71119889],\n",
       "       [1.71715356],\n",
       "       [1.72310823],\n",
       "       [1.7290629 ],\n",
       "       [1.73501758],\n",
       "       [1.74097225],\n",
       "       [1.74692692],\n",
       "       [1.75288159],\n",
       "       [1.75883626],\n",
       "       [1.76479093],\n",
       "       [1.77074561],\n",
       "       [1.77670028],\n",
       "       [1.78265495],\n",
       "       [1.78860962],\n",
       "       [1.79456429],\n",
       "       [1.80051896],\n",
       "       [1.80647364],\n",
       "       [1.81242831],\n",
       "       [1.81838298]])"
      ]
     },
     "execution_count": 75,
     "metadata": {},
     "output_type": "execute_result"
    }
   ],
   "source": [
    "predicted_y_values = model.predict(X)\n",
    "predicted_y_values"
   ]
  },
  {
   "cell_type": "code",
   "execution_count": 76,
   "metadata": {},
   "outputs": [
    {
     "data": {
      "text/plain": [
       "[<matplotlib.lines.Line2D at 0x1a748a0c160>]"
      ]
     },
     "execution_count": 76,
     "metadata": {},
     "output_type": "execute_result"
    },
    {
     "data": {
      "image/png": "[encoded data removed]",
      "text/plain": [
       "<Figure size 432x288 with 1 Axes>"
      ]
     },
     "metadata": {
      "needs_background": "light"
     },
     "output_type": "display_data"
    }
   ],
   "source": [
    "plt.scatter(X, y)\n",
    "plt.title('Argentina GDP Percent Change Projection')\n",
    "plt.plot(X, predicted_y_values, color='red')"
   ]
  },
  {
   "cell_type": "code",
   "execution_count": 77,
   "metadata": {},
   "outputs": [
    {
     "data": {
      "text/plain": [
       "LinearRegression()"
      ]
     },
     "execution_count": 77,
     "metadata": {},
     "output_type": "execute_result"
    }
   ],
   "source": [
    "model2 = LinearRegression()\n",
    "model2"
   ]
  },
  {
   "cell_type": "code",
   "execution_count": 78,
   "metadata": {},
   "outputs": [],
   "source": [
    "X = Argentina_df.index.values.reshape(-1,1)\n",
    "y = Argentina_df['Consumer Price Index'].values.reshape(-1,1)"
   ]
  },
  {
   "cell_type": "code",
   "execution_count": 81,
   "metadata": {},
   "outputs": [
    {
     "data": {
      "text/plain": [
       "LinearRegression()"
      ]
     },
     "execution_count": 81,
     "metadata": {},
     "output_type": "execute_result"
    }
   ],
   "source": [
    "model2.fit(X, y)"
   ]
  },
  {
   "cell_type": "code",
   "execution_count": 82,
   "metadata": {},
   "outputs": [
    {
     "data": {
      "text/plain": [
       "array([[ 28.95627628],\n",
       "       [ 34.02715257],\n",
       "       [ 39.09802885],\n",
       "       [ 44.16890514],\n",
       "       [ 49.23978142],\n",
       "       [ 54.31065771],\n",
       "       [ 59.38153399],\n",
       "       [ 64.45241028],\n",
       "       [ 69.52328656],\n",
       "       [ 74.59416285],\n",
       "       [ 79.66503913],\n",
       "       [ 84.73591542],\n",
       "       [ 89.8067917 ],\n",
       "       [ 94.87766798],\n",
       "       [ 99.94854427],\n",
       "       [105.01942055],\n",
       "       [110.09029684],\n",
       "       [115.16117312],\n",
       "       [120.23204941],\n",
       "       [125.30292569],\n",
       "       [130.37380198],\n",
       "       [135.44467826]])"
      ]
     },
     "execution_count": 82,
     "metadata": {},
     "output_type": "execute_result"
    }
   ],
   "source": [
    "predicted_y_values = model2.predict(X)\n",
    "predicted_y_values"
   ]
  },
  {
   "cell_type": "code",
   "execution_count": 83,
   "metadata": {},
   "outputs": [
    {
     "data": {
      "text/plain": [
       "[<matplotlib.lines.Line2D at 0x1a748a6c370>]"
      ]
     },
     "execution_count": 83,
     "metadata": {},
     "output_type": "execute_result"
    },
    {
     "data": {
      "image/png": "[encoded data removed]",
      "text/plain": [
       "<Figure size 432x288 with 1 Axes>"
      ]
     },
     "metadata": {
      "needs_background": "light"
     },
     "output_type": "display_data"
    }
   ],
   "source": [
    "plt.scatter(X, y)\n",
    "plt.title('Argentina CPI Projection')\n",
    "plt.plot(X, predicted_y_values, color='red')"
   ]
  },
  {
   "cell_type": "markdown",
   "metadata": {},
   "source": []
  },
  {
   "cell_type": "code",
   "execution_count": 95,
   "metadata": {},
   "outputs": [
    {
     "data": {
      "text/html": [
       "<div>\n",
       "<style scoped>\n",
       "    .dataframe tbody tr th:only-of-type {\n",
       "        vertical-align: middle;\n",
       "    }\n",
       "\n",
       "    .dataframe tbody tr th {\n",
       "        vertical-align: top;\n",
       "    }\n",
       "\n",
       "    .dataframe thead th {\n",
       "        text-align: right;\n",
       "    }\n",
       "</style>\n",
       "<table border=\"1\" class=\"dataframe\">\n",
       "  <thead>\n",
       "    <tr style=\"text-align: right;\">\n",
       "      <th></th>\n",
       "      <th>index</th>\n",
       "      <th>Exchange Rate (to USD)</th>\n",
       "    </tr>\n",
       "  </thead>\n",
       "  <tbody>\n",
       "    <tr>\n",
       "      <th>116</th>\n",
       "      <td>116</td>\n",
       "      <td>85.8755</td>\n",
       "    </tr>\n",
       "    <tr>\n",
       "      <th>117</th>\n",
       "      <td>117</td>\n",
       "      <td>88.5522</td>\n",
       "    </tr>\n",
       "    <tr>\n",
       "      <th>118</th>\n",
       "      <td>118</td>\n",
       "      <td>90.9659</td>\n",
       "    </tr>\n",
       "    <tr>\n",
       "      <th>119</th>\n",
       "      <td>119</td>\n",
       "      <td>92.7640</td>\n",
       "    </tr>\n",
       "    <tr>\n",
       "      <th>120</th>\n",
       "      <td>120</td>\n",
       "      <td>94.0042</td>\n",
       "    </tr>\n",
       "  </tbody>\n",
       "</table>\n",
       "</div>"
      ],
      "text/plain": [
       "     index  Exchange Rate (to USD)\n",
       "116    116                 85.8755\n",
       "117    117                 88.5522\n",
       "118    118                 90.9659\n",
       "119    119                 92.7640\n",
       "120    120                 94.0042"
      ]
     },
     "execution_count": 95,
     "metadata": {},
     "output_type": "execute_result"
    }
   ],
   "source": [
    "# import pandas as pd\n",
    "\n",
    "df3 = pd.read_csv ('../Data/Argentina/Argentina Monthly Exchange Rate.csv')\n",
    "\n",
    "df3['Exchange Rate (to USD)'] = df3['ARGCCUSMA02STM']\n",
    "\n",
    "df3.drop(columns=['ARGCCUSMA02STM'], inplace=True)\n",
    "\n",
    "df3_copy = df3\n",
    "\n",
    "df3_copy.reset_index(inplace=True)\n",
    "\n",
    "df3_copy.drop(columns=['DATE'], inplace=True)\n",
    "\n",
    "\n",
    "df3_copy.tail()"
   ]
  },
  {
   "cell_type": "code",
   "execution_count": 91,
   "metadata": {},
   "outputs": [
    {
     "data": {
      "text/plain": [
       "LinearRegression()"
      ]
     },
     "execution_count": 91,
     "metadata": {},
     "output_type": "execute_result"
    }
   ],
   "source": [
    "model3 = LinearRegression()\n",
    "model3"
   ]
  },
  {
   "cell_type": "code",
   "execution_count": 92,
   "metadata": {},
   "outputs": [],
   "source": [
    "X = df3_copy.index.values.reshape(-1,1)\n",
    "y = df3_copy['Exchange Rate (to USD)'].values.reshape(-1,1)"
   ]
  },
  {
   "cell_type": "code",
   "execution_count": 93,
   "metadata": {},
   "outputs": [
    {
     "data": {
      "text/plain": [
       "LinearRegression()"
      ]
     },
     "execution_count": 93,
     "metadata": {},
     "output_type": "execute_result"
    }
   ],
   "source": [
    "model3.fit(X, y)"
   ]
  },
  {
   "cell_type": "code",
   "execution_count": 98,
   "metadata": {},
   "outputs": [
    {
     "data": {
      "text/plain": [
       "array([[-1.31575955e+01],\n",
       "       [-1.25319183e+01],\n",
       "       [-1.19062411e+01],\n",
       "       [-1.12805639e+01],\n",
       "       [-1.06548867e+01],\n",
       "       [-1.00292095e+01],\n",
       "       [-9.40353233e+00],\n",
       "       [-8.77785514e+00],\n",
       "       [-8.15217794e+00],\n",
       "       [-7.52650074e+00],\n",
       "       [-6.90082355e+00],\n",
       "       [-6.27514635e+00],\n",
       "       [-5.64946915e+00],\n",
       "       [-5.02379196e+00],\n",
       "       [-4.39811476e+00],\n",
       "       [-3.77243756e+00],\n",
       "       [-3.14676037e+00],\n",
       "       [-2.52108317e+00],\n",
       "       [-1.89540597e+00],\n",
       "       [-1.26972877e+00],\n",
       "       [-6.44051578e-01],\n",
       "       [-1.83743811e-02],\n",
       "       [ 6.07302816e-01],\n",
       "       [ 1.23298001e+00],\n",
       "       [ 1.85865721e+00],\n",
       "       [ 2.48433441e+00],\n",
       "       [ 3.11001160e+00],\n",
       "       [ 3.73568880e+00],\n",
       "       [ 4.36136600e+00],\n",
       "       [ 4.98704319e+00],\n",
       "       [ 5.61272039e+00],\n",
       "       [ 6.23839759e+00],\n",
       "       [ 6.86407478e+00],\n",
       "       [ 7.48975198e+00],\n",
       "       [ 8.11542918e+00],\n",
       "       [ 8.74110637e+00],\n",
       "       [ 9.36678357e+00],\n",
       "       [ 9.99246077e+00],\n",
       "       [ 1.06181380e+01],\n",
       "       [ 1.12438152e+01],\n",
       "       [ 1.18694924e+01],\n",
       "       [ 1.24951696e+01],\n",
       "       [ 1.31208468e+01],\n",
       "       [ 1.37465239e+01],\n",
       "       [ 1.43722011e+01],\n",
       "       [ 1.49978783e+01],\n",
       "       [ 1.56235555e+01],\n",
       "       [ 1.62492327e+01],\n",
       "       [ 1.68749099e+01],\n",
       "       [ 1.75005871e+01],\n",
       "       [ 1.81262643e+01],\n",
       "       [ 1.87519415e+01],\n",
       "       [ 1.93776187e+01],\n",
       "       [ 2.00032959e+01],\n",
       "       [ 2.06289731e+01],\n",
       "       [ 2.12546503e+01],\n",
       "       [ 2.18803275e+01],\n",
       "       [ 2.25060047e+01],\n",
       "       [ 2.31316819e+01],\n",
       "       [ 2.37573591e+01],\n",
       "       [ 2.43830363e+01],\n",
       "       [ 2.50087135e+01],\n",
       "       [ 2.56343907e+01],\n",
       "       [ 2.62600679e+01],\n",
       "       [ 2.68857451e+01],\n",
       "       [ 2.75114223e+01],\n",
       "       [ 2.81370995e+01],\n",
       "       [ 2.87627767e+01],\n",
       "       [ 2.93884539e+01],\n",
       "       [ 3.00141311e+01],\n",
       "       [ 3.06398083e+01],\n",
       "       [ 3.12654855e+01],\n",
       "       [ 3.18911627e+01],\n",
       "       [ 3.25168399e+01],\n",
       "       [ 3.31425171e+01],\n",
       "       [ 3.37681942e+01],\n",
       "       [ 3.43938714e+01],\n",
       "       [ 3.50195486e+01],\n",
       "       [ 3.56452258e+01],\n",
       "       [ 3.62709030e+01],\n",
       "       [ 3.68965802e+01],\n",
       "       [ 3.75222574e+01],\n",
       "       [ 3.81479346e+01],\n",
       "       [ 3.87736118e+01],\n",
       "       [ 3.93992890e+01],\n",
       "       [ 4.00249662e+01],\n",
       "       [ 4.06506434e+01],\n",
       "       [ 4.12763206e+01],\n",
       "       [ 4.19019978e+01],\n",
       "       [ 4.25276750e+01],\n",
       "       [ 4.31533522e+01],\n",
       "       [ 4.37790294e+01],\n",
       "       [ 4.44047066e+01],\n",
       "       [ 4.50303838e+01],\n",
       "       [ 4.56560610e+01],\n",
       "       [ 4.62817382e+01],\n",
       "       [ 4.69074154e+01],\n",
       "       [ 4.75330926e+01],\n",
       "       [ 4.81587698e+01],\n",
       "       [ 4.87844470e+01],\n",
       "       [ 4.94101242e+01],\n",
       "       [ 5.00358014e+01],\n",
       "       [ 5.06614786e+01],\n",
       "       [ 5.12871558e+01],\n",
       "       [ 5.19128330e+01],\n",
       "       [ 5.25385102e+01],\n",
       "       [ 5.31641873e+01],\n",
       "       [ 5.37898645e+01],\n",
       "       [ 5.44155417e+01],\n",
       "       [ 5.50412189e+01],\n",
       "       [ 5.56668961e+01],\n",
       "       [ 5.62925733e+01],\n",
       "       [ 5.69182505e+01],\n",
       "       [ 5.75439277e+01],\n",
       "       [ 5.81696049e+01],\n",
       "       [ 5.87952821e+01],\n",
       "       [ 5.94209593e+01],\n",
       "       [ 6.00466365e+01],\n",
       "       [ 6.06723137e+01],\n",
       "       [ 6.12979909e+01],\n",
       "       [ 6.19236681e+01]])"
      ]
     },
     "execution_count": 98,
     "metadata": {},
     "output_type": "execute_result"
    }
   ],
   "source": [
    "predicted_y_values = model3.predict(X)\n",
    "predicted_y_values"
   ]
  },
  {
   "cell_type": "code",
   "execution_count": 100,
   "metadata": {},
   "outputs": [
    {
     "data": {
      "text/plain": [
       "[<matplotlib.lines.Line2D at 0x1a748a7ab50>]"
      ]
     },
     "execution_count": 100,
     "metadata": {},
     "output_type": "execute_result"
    },
    {
     "data": {
      "image/png": "[encoded data removed]",
      "text/plain": [
       "<Figure size 432x288 with 1 Axes>"
      ]
     },
     "metadata": {
      "needs_background": "light"
     },
     "output_type": "display_data"
    }
   ],
   "source": [
    "plt.scatter(X, y)\n",
    "plt.title('Exchange Rate (to USD) Projection')\n",
    "plt.plot(X, predicted_y_values, color='red')"
   ]
  },
  {
   "cell_type": "code",
   "execution_count": null,
   "metadata": {},
   "outputs": [],
   "source": []
  }
 ],
 "metadata": {
  "kernelspec": {
   "display_name": "Python 3",
   "language": "python",
   "name": "python3"
  },
  "language_info": {
   "codemirror_mode": {
    "name": "ipython",
    "version": 3
   },
   "file_extension": ".py",
   "mimetype": "text/x-python",
   "name": "python",
   "nbconvert_exporter": "python",
   "pygments_lexer": "ipython3",
   "version": "3.8.5"
  }
 },
 "nbformat": 4,
 "nbformat_minor": 4
}
