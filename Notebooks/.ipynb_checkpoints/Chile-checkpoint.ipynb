{
 "cells": [
  {
   "cell_type": "code",
   "execution_count": null,
   "metadata": {},
   "outputs": [],
   "source": []
  },
  {
   "cell_type": "code",
   "execution_count": 37,
   "metadata": {},
   "outputs": [
    {
     "data": {
      "text/html": [
       "<div>\n",
       "<style scoped>\n",
       "    .dataframe tbody tr th:only-of-type {\n",
       "        vertical-align: middle;\n",
       "    }\n",
       "\n",
       "    .dataframe tbody tr th {\n",
       "        vertical-align: top;\n",
       "    }\n",
       "\n",
       "    .dataframe thead th {\n",
       "        text-align: right;\n",
       "    }\n",
       "</style>\n",
       "<table border=\"1\" class=\"dataframe\">\n",
       "  <thead>\n",
       "    <tr style=\"text-align: right;\">\n",
       "      <th></th>\n",
       "      <th>DATE</th>\n",
       "      <th>Consumer Price Index (CPI)</th>\n",
       "    </tr>\n",
       "  </thead>\n",
       "  <tbody>\n",
       "    <tr>\n",
       "      <th>0</th>\n",
       "      <td>1970-01-01</td>\n",
       "      <td>0.000816</td>\n",
       "    </tr>\n",
       "    <tr>\n",
       "      <th>1</th>\n",
       "      <td>1970-02-01</td>\n",
       "      <td>0.000858</td>\n",
       "    </tr>\n",
       "    <tr>\n",
       "      <th>2</th>\n",
       "      <td>1970-03-01</td>\n",
       "      <td>0.000887</td>\n",
       "    </tr>\n",
       "    <tr>\n",
       "      <th>3</th>\n",
       "      <td>1970-04-01</td>\n",
       "      <td>0.000909</td>\n",
       "    </tr>\n",
       "    <tr>\n",
       "      <th>4</th>\n",
       "      <td>1970-05-01</td>\n",
       "      <td>0.000928</td>\n",
       "    </tr>\n",
       "  </tbody>\n",
       "</table>\n",
       "</div>"
      ],
      "text/plain": [
       "         DATE  Consumer Price Index (CPI)\n",
       "0  1970-01-01                    0.000816\n",
       "1  1970-02-01                    0.000858\n",
       "2  1970-03-01                    0.000887\n",
       "3  1970-04-01                    0.000909\n",
       "4  1970-05-01                    0.000928"
      ]
     },
     "execution_count": 37,
     "metadata": {},
     "output_type": "execute_result"
    }
   ],
   "source": [
    "import pandas as pd\n",
    "df = pd.read_csv ('../Data/Chile/Chile CPI.csv')\n",
    "\n",
    "df['Consumer Price Index (CPI)'] = df['CHLCPIALLMINMEI']\n",
    "\n",
    "df.drop(columns=['CHLCPIALLMINMEI'], inplace=True)\n",
    "\n",
    "df.head()"
   ]
  },
  {
   "cell_type": "code",
   "execution_count": 38,
   "metadata": {},
   "outputs": [
    {
     "data": {
      "text/html": [
       "<div>\n",
       "<style scoped>\n",
       "    .dataframe tbody tr th:only-of-type {\n",
       "        vertical-align: middle;\n",
       "    }\n",
       "\n",
       "    .dataframe tbody tr th {\n",
       "        vertical-align: top;\n",
       "    }\n",
       "\n",
       "    .dataframe thead th {\n",
       "        text-align: right;\n",
       "    }\n",
       "</style>\n",
       "<table border=\"1\" class=\"dataframe\">\n",
       "  <thead>\n",
       "    <tr style=\"text-align: right;\">\n",
       "      <th></th>\n",
       "      <th>DATE</th>\n",
       "      <th>Consumer Price Index (CPI)</th>\n",
       "    </tr>\n",
       "  </thead>\n",
       "  <tbody>\n",
       "    <tr>\n",
       "      <th>612</th>\n",
       "      <td>2021-01-01</td>\n",
       "      <td>117.115956</td>\n",
       "    </tr>\n",
       "    <tr>\n",
       "      <th>613</th>\n",
       "      <td>2021-02-01</td>\n",
       "      <td>117.333866</td>\n",
       "    </tr>\n",
       "    <tr>\n",
       "      <th>614</th>\n",
       "      <td>2021-03-01</td>\n",
       "      <td>117.769687</td>\n",
       "    </tr>\n",
       "    <tr>\n",
       "      <th>615</th>\n",
       "      <td>2021-04-01</td>\n",
       "      <td>118.216403</td>\n",
       "    </tr>\n",
       "    <tr>\n",
       "      <th>616</th>\n",
       "      <td>2021-05-01</td>\n",
       "      <td>118.532373</td>\n",
       "    </tr>\n",
       "  </tbody>\n",
       "</table>\n",
       "</div>"
      ],
      "text/plain": [
       "           DATE  Consumer Price Index (CPI)\n",
       "612  2021-01-01                  117.115956\n",
       "613  2021-02-01                  117.333866\n",
       "614  2021-03-01                  117.769687\n",
       "615  2021-04-01                  118.216403\n",
       "616  2021-05-01                  118.532373"
      ]
     },
     "execution_count": 38,
     "metadata": {},
     "output_type": "execute_result"
    }
   ],
   "source": [
    "df.tail()"
   ]
  },
  {
   "cell_type": "code",
   "execution_count": 39,
   "metadata": {},
   "outputs": [
    {
     "data": {
      "text/html": [
       "<div>\n",
       "<style scoped>\n",
       "    .dataframe tbody tr th:only-of-type {\n",
       "        vertical-align: middle;\n",
       "    }\n",
       "\n",
       "    .dataframe tbody tr th {\n",
       "        vertical-align: top;\n",
       "    }\n",
       "\n",
       "    .dataframe thead th {\n",
       "        text-align: right;\n",
       "    }\n",
       "</style>\n",
       "<table border=\"1\" class=\"dataframe\">\n",
       "  <thead>\n",
       "    <tr style=\"text-align: right;\">\n",
       "      <th></th>\n",
       "      <th>DATE</th>\n",
       "      <th>Exchange Rate (to USD)</th>\n",
       "    </tr>\n",
       "  </thead>\n",
       "  <tbody>\n",
       "    <tr>\n",
       "      <th>0</th>\n",
       "      <td>1951-01-01</td>\n",
       "      <td>0.000055</td>\n",
       "    </tr>\n",
       "    <tr>\n",
       "      <th>1</th>\n",
       "      <td>1952-01-01</td>\n",
       "      <td>0.000060</td>\n",
       "    </tr>\n",
       "    <tr>\n",
       "      <th>2</th>\n",
       "      <td>1953-01-01</td>\n",
       "      <td>0.000069</td>\n",
       "    </tr>\n",
       "    <tr>\n",
       "      <th>3</th>\n",
       "      <td>1954-01-01</td>\n",
       "      <td>0.000090</td>\n",
       "    </tr>\n",
       "    <tr>\n",
       "      <th>4</th>\n",
       "      <td>1955-01-01</td>\n",
       "      <td>0.000159</td>\n",
       "    </tr>\n",
       "  </tbody>\n",
       "</table>\n",
       "</div>"
      ],
      "text/plain": [
       "         DATE  Exchange Rate (to USD)\n",
       "0  1951-01-01                0.000055\n",
       "1  1952-01-01                0.000060\n",
       "2  1953-01-01                0.000069\n",
       "3  1954-01-01                0.000090\n",
       "4  1955-01-01                0.000159"
      ]
     },
     "execution_count": 39,
     "metadata": {},
     "output_type": "execute_result"
    }
   ],
   "source": [
    "import pandas as pd\n",
    "df1 = pd.read_csv ('../Data/Chile/Chile Exchange Rate.csv')\n",
    "\n",
    "df1['Exchange Rate (to USD)'] = df1['FXRATECLA618NUPN']\n",
    "\n",
    "df1.drop(columns=['FXRATECLA618NUPN'], inplace=True)\n",
    "\n",
    "df1.head()"
   ]
  },
  {
   "cell_type": "code",
   "execution_count": 40,
   "metadata": {},
   "outputs": [
    {
     "data": {
      "text/html": [
       "<div>\n",
       "<style scoped>\n",
       "    .dataframe tbody tr th:only-of-type {\n",
       "        vertical-align: middle;\n",
       "    }\n",
       "\n",
       "    .dataframe tbody tr th {\n",
       "        vertical-align: top;\n",
       "    }\n",
       "\n",
       "    .dataframe thead th {\n",
       "        text-align: right;\n",
       "    }\n",
       "</style>\n",
       "<table border=\"1\" class=\"dataframe\">\n",
       "  <thead>\n",
       "    <tr style=\"text-align: right;\">\n",
       "      <th></th>\n",
       "      <th>DATE</th>\n",
       "      <th>Exchange Rate (to USD)</th>\n",
       "    </tr>\n",
       "  </thead>\n",
       "  <tbody>\n",
       "    <tr>\n",
       "      <th>55</th>\n",
       "      <td>2006-01-01</td>\n",
       "      <td>530.275</td>\n",
       "    </tr>\n",
       "    <tr>\n",
       "      <th>56</th>\n",
       "      <td>2007-01-01</td>\n",
       "      <td>522.464</td>\n",
       "    </tr>\n",
       "    <tr>\n",
       "      <th>57</th>\n",
       "      <td>2008-01-01</td>\n",
       "      <td>522.461</td>\n",
       "    </tr>\n",
       "    <tr>\n",
       "      <th>58</th>\n",
       "      <td>2009-01-01</td>\n",
       "      <td>560.860</td>\n",
       "    </tr>\n",
       "    <tr>\n",
       "      <th>59</th>\n",
       "      <td>2010-01-01</td>\n",
       "      <td>510.249</td>\n",
       "    </tr>\n",
       "  </tbody>\n",
       "</table>\n",
       "</div>"
      ],
      "text/plain": [
       "          DATE  Exchange Rate (to USD)\n",
       "55  2006-01-01                 530.275\n",
       "56  2007-01-01                 522.464\n",
       "57  2008-01-01                 522.461\n",
       "58  2009-01-01                 560.860\n",
       "59  2010-01-01                 510.249"
      ]
     },
     "execution_count": 40,
     "metadata": {},
     "output_type": "execute_result"
    }
   ],
   "source": [
    "df1.tail()"
   ]
  },
  {
   "cell_type": "code",
   "execution_count": 41,
   "metadata": {},
   "outputs": [
    {
     "data": {
      "text/html": [
       "<div>\n",
       "<style scoped>\n",
       "    .dataframe tbody tr th:only-of-type {\n",
       "        vertical-align: middle;\n",
       "    }\n",
       "\n",
       "    .dataframe tbody tr th {\n",
       "        vertical-align: top;\n",
       "    }\n",
       "\n",
       "    .dataframe thead th {\n",
       "        text-align: right;\n",
       "    }\n",
       "</style>\n",
       "<table border=\"1\" class=\"dataframe\">\n",
       "  <thead>\n",
       "    <tr style=\"text-align: right;\">\n",
       "      <th></th>\n",
       "      <th>DATE</th>\n",
       "      <th>GDP Percent Change</th>\n",
       "    </tr>\n",
       "  </thead>\n",
       "  <tbody>\n",
       "    <tr>\n",
       "      <th>0</th>\n",
       "      <td>1980-01-01</td>\n",
       "      <td>7.945</td>\n",
       "    </tr>\n",
       "    <tr>\n",
       "      <th>1</th>\n",
       "      <td>1981-01-01</td>\n",
       "      <td>6.212</td>\n",
       "    </tr>\n",
       "    <tr>\n",
       "      <th>2</th>\n",
       "      <td>1982-01-01</td>\n",
       "      <td>-13.588</td>\n",
       "    </tr>\n",
       "    <tr>\n",
       "      <th>3</th>\n",
       "      <td>1983-01-01</td>\n",
       "      <td>-2.802</td>\n",
       "    </tr>\n",
       "    <tr>\n",
       "      <th>4</th>\n",
       "      <td>1984-01-01</td>\n",
       "      <td>5.886</td>\n",
       "    </tr>\n",
       "  </tbody>\n",
       "</table>\n",
       "</div>"
      ],
      "text/plain": [
       "         DATE  GDP Percent Change\n",
       "0  1980-01-01               7.945\n",
       "1  1981-01-01               6.212\n",
       "2  1982-01-01             -13.588\n",
       "3  1983-01-01              -2.802\n",
       "4  1984-01-01               5.886"
      ]
     },
     "execution_count": 41,
     "metadata": {},
     "output_type": "execute_result"
    }
   ],
   "source": [
    "df2 = pd.read_csv ('../Data/Chile/Chile GDP Percent Change.csv')\n",
    "df2['GDP Percent Change'] = df2['CHLNGDPRPCH']\n",
    "df2.drop(columns=['CHLNGDPRPCH'], inplace=True)\n",
    "df2.head()"
   ]
  },
  {
   "cell_type": "code",
   "execution_count": 42,
   "metadata": {},
   "outputs": [
    {
     "data": {
      "text/html": [
       "<div>\n",
       "<style scoped>\n",
       "    .dataframe tbody tr th:only-of-type {\n",
       "        vertical-align: middle;\n",
       "    }\n",
       "\n",
       "    .dataframe tbody tr th {\n",
       "        vertical-align: top;\n",
       "    }\n",
       "\n",
       "    .dataframe thead th {\n",
       "        text-align: right;\n",
       "    }\n",
       "</style>\n",
       "<table border=\"1\" class=\"dataframe\">\n",
       "  <thead>\n",
       "    <tr style=\"text-align: right;\">\n",
       "      <th></th>\n",
       "      <th>DATE</th>\n",
       "      <th>GDP Percent Change</th>\n",
       "    </tr>\n",
       "  </thead>\n",
       "  <tbody>\n",
       "    <tr>\n",
       "      <th>42</th>\n",
       "      <td>2022-01-01</td>\n",
       "      <td>3.822</td>\n",
       "    </tr>\n",
       "    <tr>\n",
       "      <th>43</th>\n",
       "      <td>2023-01-01</td>\n",
       "      <td>2.684</td>\n",
       "    </tr>\n",
       "    <tr>\n",
       "      <th>44</th>\n",
       "      <td>2024-01-01</td>\n",
       "      <td>2.495</td>\n",
       "    </tr>\n",
       "    <tr>\n",
       "      <th>45</th>\n",
       "      <td>2025-01-01</td>\n",
       "      <td>2.457</td>\n",
       "    </tr>\n",
       "    <tr>\n",
       "      <th>46</th>\n",
       "      <td>2026-01-01</td>\n",
       "      <td>2.549</td>\n",
       "    </tr>\n",
       "  </tbody>\n",
       "</table>\n",
       "</div>"
      ],
      "text/plain": [
       "          DATE  GDP Percent Change\n",
       "42  2022-01-01               3.822\n",
       "43  2023-01-01               2.684\n",
       "44  2024-01-01               2.495\n",
       "45  2025-01-01               2.457\n",
       "46  2026-01-01               2.549"
      ]
     },
     "execution_count": 42,
     "metadata": {},
     "output_type": "execute_result"
    }
   ],
   "source": [
    "df2.tail()"
   ]
  },
  {
   "cell_type": "code",
   "execution_count": 43,
   "metadata": {},
   "outputs": [],
   "source": [
    "import matplotlib.pyplot as plt"
   ]
  },
  {
   "cell_type": "code",
   "execution_count": 44,
   "metadata": {},
   "outputs": [
    {
     "data": {
      "text/plain": [
       "<matplotlib.collections.PathCollection at 0x24bb882be50>"
      ]
     },
     "execution_count": 44,
     "metadata": {},
     "output_type": "execute_result"
    },
    {
     "data": {
      "image/png": "[encoded data removed]",
      "text/plain": [
       "<Figure size 432x288 with 1 Axes>"
      ]
     },
     "metadata": {
      "needs_background": "light"
     },
     "output_type": "display_data"
    }
   ],
   "source": [
    "plt.scatter(df.index , df['Consumer Price Index (CPI)'])"
   ]
  },
  {
   "cell_type": "code",
   "execution_count": 45,
   "metadata": {},
   "outputs": [
    {
     "data": {
      "text/plain": [
       "<matplotlib.collections.PathCollection at 0x24bb87f8220>"
      ]
     },
     "execution_count": 45,
     "metadata": {},
     "output_type": "execute_result"
    },
    {
     "data": {
      "image/png": "[encoded data removed]",
      "text/plain": [
       "<Figure size 432x288 with 1 Axes>"
      ]
     },
     "metadata": {
      "needs_background": "light"
     },
     "output_type": "display_data"
    }
   ],
   "source": [
    "plt.scatter(df1.index , df1['Exchange Rate (to USD)'])"
   ]
  },
  {
   "cell_type": "code",
   "execution_count": 46,
   "metadata": {},
   "outputs": [
    {
     "data": {
      "text/plain": [
       "<matplotlib.collections.PathCollection at 0x24bb88cafa0>"
      ]
     },
     "execution_count": 46,
     "metadata": {},
     "output_type": "execute_result"
    },
    {
     "data": {
      "image/png": "[encoded data removed]",
      "text/plain": [
       "<Figure size 432x288 with 1 Axes>"
      ]
     },
     "metadata": {
      "needs_background": "light"
     },
     "output_type": "display_data"
    }
   ],
   "source": [
    "plt.scatter(df2.index , df2['GDP Percent Change'])"
   ]
  },
  {
   "cell_type": "code",
   "execution_count": 47,
   "metadata": {},
   "outputs": [],
   "source": [
    "from sklearn.linear_model import LinearRegression"
   ]
  },
  {
   "cell_type": "code",
   "execution_count": 48,
   "metadata": {},
   "outputs": [
    {
     "data": {
      "text/plain": [
       "LinearRegression()"
      ]
     },
     "execution_count": 48,
     "metadata": {},
     "output_type": "execute_result"
    }
   ],
   "source": [
    "model = LinearRegression()\n",
    "model"
   ]
  },
  {
   "cell_type": "code",
   "execution_count": 49,
   "metadata": {},
   "outputs": [],
   "source": [
    "X = df.index.values.reshape(-1,1)\n",
    "y = df['Consumer Price Index (CPI)'].values.reshape(-1,1)"
   ]
  },
  {
   "cell_type": "code",
   "execution_count": 50,
   "metadata": {},
   "outputs": [
    {
     "data": {
      "text/plain": [
       "LinearRegression()"
      ]
     },
     "execution_count": 50,
     "metadata": {},
     "output_type": "execute_result"
    }
   ],
   "source": [
    "model.fit(X, y)"
   ]
  },
  {
   "cell_type": "code",
   "execution_count": 51,
   "metadata": {},
   "outputs": [
    {
     "data": {
      "text/plain": [
       "array([[-1.86264175e+01],\n",
       "       [-1.84131086e+01],\n",
       "       [-1.81997996e+01],\n",
       "       [-1.79864907e+01],\n",
       "       [-1.77731817e+01],\n",
       "       [-1.75598728e+01],\n",
       "       [-1.73465638e+01],\n",
       "       [-1.71332549e+01],\n",
       "       [-1.69199460e+01],\n",
       "       [-1.67066370e+01],\n",
       "       [-1.64933281e+01],\n",
       "       [-1.62800191e+01],\n",
       "       [-1.60667102e+01],\n",
       "       [-1.58534012e+01],\n",
       "       [-1.56400923e+01],\n",
       "       [-1.54267833e+01],\n",
       "       [-1.52134744e+01],\n",
       "       [-1.50001654e+01],\n",
       "       [-1.47868565e+01],\n",
       "       [-1.45735476e+01],\n",
       "       [-1.43602386e+01],\n",
       "       [-1.41469297e+01],\n",
       "       [-1.39336207e+01],\n",
       "       [-1.37203118e+01],\n",
       "       [-1.35070028e+01],\n",
       "       [-1.32936939e+01],\n",
       "       [-1.30803849e+01],\n",
       "       [-1.28670760e+01],\n",
       "       [-1.26537670e+01],\n",
       "       [-1.24404581e+01],\n",
       "       [-1.22271492e+01],\n",
       "       [-1.20138402e+01],\n",
       "       [-1.18005313e+01],\n",
       "       [-1.15872223e+01],\n",
       "       [-1.13739134e+01],\n",
       "       [-1.11606044e+01],\n",
       "       [-1.09472955e+01],\n",
       "       [-1.07339865e+01],\n",
       "       [-1.05206776e+01],\n",
       "       [-1.03073686e+01],\n",
       "       [-1.00940597e+01],\n",
       "       [-9.88075075e+00],\n",
       "       [-9.66744180e+00],\n",
       "       [-9.45413286e+00],\n",
       "       [-9.24082391e+00],\n",
       "       [-9.02751497e+00],\n",
       "       [-8.81420602e+00],\n",
       "       [-8.60089708e+00],\n",
       "       [-8.38758813e+00],\n",
       "       [-8.17427918e+00],\n",
       "       [-7.96097024e+00],\n",
       "       [-7.74766129e+00],\n",
       "       [-7.53435235e+00],\n",
       "       [-7.32104340e+00],\n",
       "       [-7.10773446e+00],\n",
       "       [-6.89442551e+00],\n",
       "       [-6.68111657e+00],\n",
       "       [-6.46780762e+00],\n",
       "       [-6.25449867e+00],\n",
       "       [-6.04118973e+00],\n",
       "       [-5.82788078e+00],\n",
       "       [-5.61457184e+00],\n",
       "       [-5.40126289e+00],\n",
       "       [-5.18795395e+00],\n",
       "       [-4.97464500e+00],\n",
       "       [-4.76133606e+00],\n",
       "       [-4.54802711e+00],\n",
       "       [-4.33471816e+00],\n",
       "       [-4.12140922e+00],\n",
       "       [-3.90810027e+00],\n",
       "       [-3.69479133e+00],\n",
       "       [-3.48148238e+00],\n",
       "       [-3.26817344e+00],\n",
       "       [-3.05486449e+00],\n",
       "       [-2.84155554e+00],\n",
       "       [-2.62824660e+00],\n",
       "       [-2.41493765e+00],\n",
       "       [-2.20162871e+00],\n",
       "       [-1.98831976e+00],\n",
       "       [-1.77501082e+00],\n",
       "       [-1.56170187e+00],\n",
       "       [-1.34839293e+00],\n",
       "       [-1.13508398e+00],\n",
       "       [-9.21775034e-01],\n",
       "       [-7.08466089e-01],\n",
       "       [-4.95157143e-01],\n",
       "       [-2.81848198e-01],\n",
       "       [-6.85392521e-02],\n",
       "       [ 1.44769694e-01],\n",
       "       [ 3.58078639e-01],\n",
       "       [ 5.71387585e-01],\n",
       "       [ 7.84696530e-01],\n",
       "       [ 9.98005476e-01],\n",
       "       [ 1.21131442e+00],\n",
       "       [ 1.42462337e+00],\n",
       "       [ 1.63793231e+00],\n",
       "       [ 1.85124126e+00],\n",
       "       [ 2.06455020e+00],\n",
       "       [ 2.27785915e+00],\n",
       "       [ 2.49116810e+00],\n",
       "       [ 2.70447704e+00],\n",
       "       [ 2.91778599e+00],\n",
       "       [ 3.13109493e+00],\n",
       "       [ 3.34440388e+00],\n",
       "       [ 3.55771282e+00],\n",
       "       [ 3.77102177e+00],\n",
       "       [ 3.98433071e+00],\n",
       "       [ 4.19763966e+00],\n",
       "       [ 4.41094861e+00],\n",
       "       [ 4.62425755e+00],\n",
       "       [ 4.83756650e+00],\n",
       "       [ 5.05087544e+00],\n",
       "       [ 5.26418439e+00],\n",
       "       [ 5.47749333e+00],\n",
       "       [ 5.69080228e+00],\n",
       "       [ 5.90411122e+00],\n",
       "       [ 6.11742017e+00],\n",
       "       [ 6.33072912e+00],\n",
       "       [ 6.54403806e+00],\n",
       "       [ 6.75734701e+00],\n",
       "       [ 6.97065595e+00],\n",
       "       [ 7.18396490e+00],\n",
       "       [ 7.39727384e+00],\n",
       "       [ 7.61058279e+00],\n",
       "       [ 7.82389174e+00],\n",
       "       [ 8.03720068e+00],\n",
       "       [ 8.25050963e+00],\n",
       "       [ 8.46381857e+00],\n",
       "       [ 8.67712752e+00],\n",
       "       [ 8.89043646e+00],\n",
       "       [ 9.10374541e+00],\n",
       "       [ 9.31705435e+00],\n",
       "       [ 9.53036330e+00],\n",
       "       [ 9.74367225e+00],\n",
       "       [ 9.95698119e+00],\n",
       "       [ 1.01702901e+01],\n",
       "       [ 1.03835991e+01],\n",
       "       [ 1.05969080e+01],\n",
       "       [ 1.08102170e+01],\n",
       "       [ 1.10235259e+01],\n",
       "       [ 1.12368349e+01],\n",
       "       [ 1.14501438e+01],\n",
       "       [ 1.16634528e+01],\n",
       "       [ 1.18767617e+01],\n",
       "       [ 1.20900706e+01],\n",
       "       [ 1.23033796e+01],\n",
       "       [ 1.25166885e+01],\n",
       "       [ 1.27299975e+01],\n",
       "       [ 1.29433064e+01],\n",
       "       [ 1.31566154e+01],\n",
       "       [ 1.33699243e+01],\n",
       "       [ 1.35832333e+01],\n",
       "       [ 1.37965422e+01],\n",
       "       [ 1.40098512e+01],\n",
       "       [ 1.42231601e+01],\n",
       "       [ 1.44364690e+01],\n",
       "       [ 1.46497780e+01],\n",
       "       [ 1.48630869e+01],\n",
       "       [ 1.50763959e+01],\n",
       "       [ 1.52897048e+01],\n",
       "       [ 1.55030138e+01],\n",
       "       [ 1.57163227e+01],\n",
       "       [ 1.59296317e+01],\n",
       "       [ 1.61429406e+01],\n",
       "       [ 1.63562496e+01],\n",
       "       [ 1.65695585e+01],\n",
       "       [ 1.67828675e+01],\n",
       "       [ 1.69961764e+01],\n",
       "       [ 1.72094853e+01],\n",
       "       [ 1.74227943e+01],\n",
       "       [ 1.76361032e+01],\n",
       "       [ 1.78494122e+01],\n",
       "       [ 1.80627211e+01],\n",
       "       [ 1.82760301e+01],\n",
       "       [ 1.84893390e+01],\n",
       "       [ 1.87026480e+01],\n",
       "       [ 1.89159569e+01],\n",
       "       [ 1.91292659e+01],\n",
       "       [ 1.93425748e+01],\n",
       "       [ 1.95558837e+01],\n",
       "       [ 1.97691927e+01],\n",
       "       [ 1.99825016e+01],\n",
       "       [ 2.01958106e+01],\n",
       "       [ 2.04091195e+01],\n",
       "       [ 2.06224285e+01],\n",
       "       [ 2.08357374e+01],\n",
       "       [ 2.10490464e+01],\n",
       "       [ 2.12623553e+01],\n",
       "       [ 2.14756643e+01],\n",
       "       [ 2.16889732e+01],\n",
       "       [ 2.19022821e+01],\n",
       "       [ 2.21155911e+01],\n",
       "       [ 2.23289000e+01],\n",
       "       [ 2.25422090e+01],\n",
       "       [ 2.27555179e+01],\n",
       "       [ 2.29688269e+01],\n",
       "       [ 2.31821358e+01],\n",
       "       [ 2.33954448e+01],\n",
       "       [ 2.36087537e+01],\n",
       "       [ 2.38220627e+01],\n",
       "       [ 2.40353716e+01],\n",
       "       [ 2.42486805e+01],\n",
       "       [ 2.44619895e+01],\n",
       "       [ 2.46752984e+01],\n",
       "       [ 2.48886074e+01],\n",
       "       [ 2.51019163e+01],\n",
       "       [ 2.53152253e+01],\n",
       "       [ 2.55285342e+01],\n",
       "       [ 2.57418432e+01],\n",
       "       [ 2.59551521e+01],\n",
       "       [ 2.61684611e+01],\n",
       "       [ 2.63817700e+01],\n",
       "       [ 2.65950789e+01],\n",
       "       [ 2.68083879e+01],\n",
       "       [ 2.70216968e+01],\n",
       "       [ 2.72350058e+01],\n",
       "       [ 2.74483147e+01],\n",
       "       [ 2.76616237e+01],\n",
       "       [ 2.78749326e+01],\n",
       "       [ 2.80882416e+01],\n",
       "       [ 2.83015505e+01],\n",
       "       [ 2.85148595e+01],\n",
       "       [ 2.87281684e+01],\n",
       "       [ 2.89414773e+01],\n",
       "       [ 2.91547863e+01],\n",
       "       [ 2.93680952e+01],\n",
       "       [ 2.95814042e+01],\n",
       "       [ 2.97947131e+01],\n",
       "       [ 3.00080221e+01],\n",
       "       [ 3.02213310e+01],\n",
       "       [ 3.04346400e+01],\n",
       "       [ 3.06479489e+01],\n",
       "       [ 3.08612579e+01],\n",
       "       [ 3.10745668e+01],\n",
       "       [ 3.12878758e+01],\n",
       "       [ 3.15011847e+01],\n",
       "       [ 3.17144936e+01],\n",
       "       [ 3.19278026e+01],\n",
       "       [ 3.21411115e+01],\n",
       "       [ 3.23544205e+01],\n",
       "       [ 3.25677294e+01],\n",
       "       [ 3.27810384e+01],\n",
       "       [ 3.29943473e+01],\n",
       "       [ 3.32076563e+01],\n",
       "       [ 3.34209652e+01],\n",
       "       [ 3.36342742e+01],\n",
       "       [ 3.38475831e+01],\n",
       "       [ 3.40608920e+01],\n",
       "       [ 3.42742010e+01],\n",
       "       [ 3.44875099e+01],\n",
       "       [ 3.47008189e+01],\n",
       "       [ 3.49141278e+01],\n",
       "       [ 3.51274368e+01],\n",
       "       [ 3.53407457e+01],\n",
       "       [ 3.55540547e+01],\n",
       "       [ 3.57673636e+01],\n",
       "       [ 3.59806726e+01],\n",
       "       [ 3.61939815e+01],\n",
       "       [ 3.64072904e+01],\n",
       "       [ 3.66205994e+01],\n",
       "       [ 3.68339083e+01],\n",
       "       [ 3.70472173e+01],\n",
       "       [ 3.72605262e+01],\n",
       "       [ 3.74738352e+01],\n",
       "       [ 3.76871441e+01],\n",
       "       [ 3.79004531e+01],\n",
       "       [ 3.81137620e+01],\n",
       "       [ 3.83270710e+01],\n",
       "       [ 3.85403799e+01],\n",
       "       [ 3.87536888e+01],\n",
       "       [ 3.89669978e+01],\n",
       "       [ 3.91803067e+01],\n",
       "       [ 3.93936157e+01],\n",
       "       [ 3.96069246e+01],\n",
       "       [ 3.98202336e+01],\n",
       "       [ 4.00335425e+01],\n",
       "       [ 4.02468515e+01],\n",
       "       [ 4.04601604e+01],\n",
       "       [ 4.06734694e+01],\n",
       "       [ 4.08867783e+01],\n",
       "       [ 4.11000872e+01],\n",
       "       [ 4.13133962e+01],\n",
       "       [ 4.15267051e+01],\n",
       "       [ 4.17400141e+01],\n",
       "       [ 4.19533230e+01],\n",
       "       [ 4.21666320e+01],\n",
       "       [ 4.23799409e+01],\n",
       "       [ 4.25932499e+01],\n",
       "       [ 4.28065588e+01],\n",
       "       [ 4.30198678e+01],\n",
       "       [ 4.32331767e+01],\n",
       "       [ 4.34464856e+01],\n",
       "       [ 4.36597946e+01],\n",
       "       [ 4.38731035e+01],\n",
       "       [ 4.40864125e+01],\n",
       "       [ 4.42997214e+01],\n",
       "       [ 4.45130304e+01],\n",
       "       [ 4.47263393e+01],\n",
       "       [ 4.49396483e+01],\n",
       "       [ 4.51529572e+01],\n",
       "       [ 4.53662662e+01],\n",
       "       [ 4.55795751e+01],\n",
       "       [ 4.57928841e+01],\n",
       "       [ 4.60061930e+01],\n",
       "       [ 4.62195019e+01],\n",
       "       [ 4.64328109e+01],\n",
       "       [ 4.66461198e+01],\n",
       "       [ 4.68594288e+01],\n",
       "       [ 4.70727377e+01],\n",
       "       [ 4.72860467e+01],\n",
       "       [ 4.74993556e+01],\n",
       "       [ 4.77126646e+01],\n",
       "       [ 4.79259735e+01],\n",
       "       [ 4.81392825e+01],\n",
       "       [ 4.83525914e+01],\n",
       "       [ 4.85659003e+01],\n",
       "       [ 4.87792093e+01],\n",
       "       [ 4.89925182e+01],\n",
       "       [ 4.92058272e+01],\n",
       "       [ 4.94191361e+01],\n",
       "       [ 4.96324451e+01],\n",
       "       [ 4.98457540e+01],\n",
       "       [ 5.00590630e+01],\n",
       "       [ 5.02723719e+01],\n",
       "       [ 5.04856809e+01],\n",
       "       [ 5.06989898e+01],\n",
       "       [ 5.09122987e+01],\n",
       "       [ 5.11256077e+01],\n",
       "       [ 5.13389166e+01],\n",
       "       [ 5.15522256e+01],\n",
       "       [ 5.17655345e+01],\n",
       "       [ 5.19788435e+01],\n",
       "       [ 5.21921524e+01],\n",
       "       [ 5.24054614e+01],\n",
       "       [ 5.26187703e+01],\n",
       "       [ 5.28320793e+01],\n",
       "       [ 5.30453882e+01],\n",
       "       [ 5.32586971e+01],\n",
       "       [ 5.34720061e+01],\n",
       "       [ 5.36853150e+01],\n",
       "       [ 5.38986240e+01],\n",
       "       [ 5.41119329e+01],\n",
       "       [ 5.43252419e+01],\n",
       "       [ 5.45385508e+01],\n",
       "       [ 5.47518598e+01],\n",
       "       [ 5.49651687e+01],\n",
       "       [ 5.51784777e+01],\n",
       "       [ 5.53917866e+01],\n",
       "       [ 5.56050955e+01],\n",
       "       [ 5.58184045e+01],\n",
       "       [ 5.60317134e+01],\n",
       "       [ 5.62450224e+01],\n",
       "       [ 5.64583313e+01],\n",
       "       [ 5.66716403e+01],\n",
       "       [ 5.68849492e+01],\n",
       "       [ 5.70982582e+01],\n",
       "       [ 5.73115671e+01],\n",
       "       [ 5.75248761e+01],\n",
       "       [ 5.77381850e+01],\n",
       "       [ 5.79514940e+01],\n",
       "       [ 5.81648029e+01],\n",
       "       [ 5.83781118e+01],\n",
       "       [ 5.85914208e+01],\n",
       "       [ 5.88047297e+01],\n",
       "       [ 5.90180387e+01],\n",
       "       [ 5.92313476e+01],\n",
       "       [ 5.94446566e+01],\n",
       "       [ 5.96579655e+01],\n",
       "       [ 5.98712745e+01],\n",
       "       [ 6.00845834e+01],\n",
       "       [ 6.02978924e+01],\n",
       "       [ 6.05112013e+01],\n",
       "       [ 6.07245102e+01],\n",
       "       [ 6.09378192e+01],\n",
       "       [ 6.11511281e+01],\n",
       "       [ 6.13644371e+01],\n",
       "       [ 6.15777460e+01],\n",
       "       [ 6.17910550e+01],\n",
       "       [ 6.20043639e+01],\n",
       "       [ 6.22176729e+01],\n",
       "       [ 6.24309818e+01],\n",
       "       [ 6.26442908e+01],\n",
       "       [ 6.28575997e+01],\n",
       "       [ 6.30709086e+01],\n",
       "       [ 6.32842176e+01],\n",
       "       [ 6.34975265e+01],\n",
       "       [ 6.37108355e+01],\n",
       "       [ 6.39241444e+01],\n",
       "       [ 6.41374534e+01],\n",
       "       [ 6.43507623e+01],\n",
       "       [ 6.45640713e+01],\n",
       "       [ 6.47773802e+01],\n",
       "       [ 6.49906892e+01],\n",
       "       [ 6.52039981e+01],\n",
       "       [ 6.54173070e+01],\n",
       "       [ 6.56306160e+01],\n",
       "       [ 6.58439249e+01],\n",
       "       [ 6.60572339e+01],\n",
       "       [ 6.62705428e+01],\n",
       "       [ 6.64838518e+01],\n",
       "       [ 6.66971607e+01],\n",
       "       [ 6.69104697e+01],\n",
       "       [ 6.71237786e+01],\n",
       "       [ 6.73370876e+01],\n",
       "       [ 6.75503965e+01],\n",
       "       [ 6.77637054e+01],\n",
       "       [ 6.79770144e+01],\n",
       "       [ 6.81903233e+01],\n",
       "       [ 6.84036323e+01],\n",
       "       [ 6.86169412e+01],\n",
       "       [ 6.88302502e+01],\n",
       "       [ 6.90435591e+01],\n",
       "       [ 6.92568681e+01],\n",
       "       [ 6.94701770e+01],\n",
       "       [ 6.96834860e+01],\n",
       "       [ 6.98967949e+01],\n",
       "       [ 7.01101038e+01],\n",
       "       [ 7.03234128e+01],\n",
       "       [ 7.05367217e+01],\n",
       "       [ 7.07500307e+01],\n",
       "       [ 7.09633396e+01],\n",
       "       [ 7.11766486e+01],\n",
       "       [ 7.13899575e+01],\n",
       "       [ 7.16032665e+01],\n",
       "       [ 7.18165754e+01],\n",
       "       [ 7.20298844e+01],\n",
       "       [ 7.22431933e+01],\n",
       "       [ 7.24565023e+01],\n",
       "       [ 7.26698112e+01],\n",
       "       [ 7.28831201e+01],\n",
       "       [ 7.30964291e+01],\n",
       "       [ 7.33097380e+01],\n",
       "       [ 7.35230470e+01],\n",
       "       [ 7.37363559e+01],\n",
       "       [ 7.39496649e+01],\n",
       "       [ 7.41629738e+01],\n",
       "       [ 7.43762828e+01],\n",
       "       [ 7.45895917e+01],\n",
       "       [ 7.48029007e+01],\n",
       "       [ 7.50162096e+01],\n",
       "       [ 7.52295185e+01],\n",
       "       [ 7.54428275e+01],\n",
       "       [ 7.56561364e+01],\n",
       "       [ 7.58694454e+01],\n",
       "       [ 7.60827543e+01],\n",
       "       [ 7.62960633e+01],\n",
       "       [ 7.65093722e+01],\n",
       "       [ 7.67226812e+01],\n",
       "       [ 7.69359901e+01],\n",
       "       [ 7.71492991e+01],\n",
       "       [ 7.73626080e+01],\n",
       "       [ 7.75759169e+01],\n",
       "       [ 7.77892259e+01],\n",
       "       [ 7.80025348e+01],\n",
       "       [ 7.82158438e+01],\n",
       "       [ 7.84291527e+01],\n",
       "       [ 7.86424617e+01],\n",
       "       [ 7.88557706e+01],\n",
       "       [ 7.90690796e+01],\n",
       "       [ 7.92823885e+01],\n",
       "       [ 7.94956975e+01],\n",
       "       [ 7.97090064e+01],\n",
       "       [ 7.99223153e+01],\n",
       "       [ 8.01356243e+01],\n",
       "       [ 8.03489332e+01],\n",
       "       [ 8.05622422e+01],\n",
       "       [ 8.07755511e+01],\n",
       "       [ 8.09888601e+01],\n",
       "       [ 8.12021690e+01],\n",
       "       [ 8.14154780e+01],\n",
       "       [ 8.16287869e+01],\n",
       "       [ 8.18420959e+01],\n",
       "       [ 8.20554048e+01],\n",
       "       [ 8.22687137e+01],\n",
       "       [ 8.24820227e+01],\n",
       "       [ 8.26953316e+01],\n",
       "       [ 8.29086406e+01],\n",
       "       [ 8.31219495e+01],\n",
       "       [ 8.33352585e+01],\n",
       "       [ 8.35485674e+01],\n",
       "       [ 8.37618764e+01],\n",
       "       [ 8.39751853e+01],\n",
       "       [ 8.41884943e+01],\n",
       "       [ 8.44018032e+01],\n",
       "       [ 8.46151122e+01],\n",
       "       [ 8.48284211e+01],\n",
       "       [ 8.50417300e+01],\n",
       "       [ 8.52550390e+01],\n",
       "       [ 8.54683479e+01],\n",
       "       [ 8.56816569e+01],\n",
       "       [ 8.58949658e+01],\n",
       "       [ 8.61082748e+01],\n",
       "       [ 8.63215837e+01],\n",
       "       [ 8.65348927e+01],\n",
       "       [ 8.67482016e+01],\n",
       "       [ 8.69615106e+01],\n",
       "       [ 8.71748195e+01],\n",
       "       [ 8.73881284e+01],\n",
       "       [ 8.76014374e+01],\n",
       "       [ 8.78147463e+01],\n",
       "       [ 8.80280553e+01],\n",
       "       [ 8.82413642e+01],\n",
       "       [ 8.84546732e+01],\n",
       "       [ 8.86679821e+01],\n",
       "       [ 8.88812911e+01],\n",
       "       [ 8.90946000e+01],\n",
       "       [ 8.93079090e+01],\n",
       "       [ 8.95212179e+01],\n",
       "       [ 8.97345268e+01],\n",
       "       [ 8.99478358e+01],\n",
       "       [ 9.01611447e+01],\n",
       "       [ 9.03744537e+01],\n",
       "       [ 9.05877626e+01],\n",
       "       [ 9.08010716e+01],\n",
       "       [ 9.10143805e+01],\n",
       "       [ 9.12276895e+01],\n",
       "       [ 9.14409984e+01],\n",
       "       [ 9.16543074e+01],\n",
       "       [ 9.18676163e+01],\n",
       "       [ 9.20809252e+01],\n",
       "       [ 9.22942342e+01],\n",
       "       [ 9.25075431e+01],\n",
       "       [ 9.27208521e+01],\n",
       "       [ 9.29341610e+01],\n",
       "       [ 9.31474700e+01],\n",
       "       [ 9.33607789e+01],\n",
       "       [ 9.35740879e+01],\n",
       "       [ 9.37873968e+01],\n",
       "       [ 9.40007058e+01],\n",
       "       [ 9.42140147e+01],\n",
       "       [ 9.44273236e+01],\n",
       "       [ 9.46406326e+01],\n",
       "       [ 9.48539415e+01],\n",
       "       [ 9.50672505e+01],\n",
       "       [ 9.52805594e+01],\n",
       "       [ 9.54938684e+01],\n",
       "       [ 9.57071773e+01],\n",
       "       [ 9.59204863e+01],\n",
       "       [ 9.61337952e+01],\n",
       "       [ 9.63471042e+01],\n",
       "       [ 9.65604131e+01],\n",
       "       [ 9.67737220e+01],\n",
       "       [ 9.69870310e+01],\n",
       "       [ 9.72003399e+01],\n",
       "       [ 9.74136489e+01],\n",
       "       [ 9.76269578e+01],\n",
       "       [ 9.78402668e+01],\n",
       "       [ 9.80535757e+01],\n",
       "       [ 9.82668847e+01],\n",
       "       [ 9.84801936e+01],\n",
       "       [ 9.86935026e+01],\n",
       "       [ 9.89068115e+01],\n",
       "       [ 9.91201205e+01],\n",
       "       [ 9.93334294e+01],\n",
       "       [ 9.95467383e+01],\n",
       "       [ 9.97600473e+01],\n",
       "       [ 9.99733562e+01],\n",
       "       [ 1.00186665e+02],\n",
       "       [ 1.00399974e+02],\n",
       "       [ 1.00613283e+02],\n",
       "       [ 1.00826592e+02],\n",
       "       [ 1.01039901e+02],\n",
       "       [ 1.01253210e+02],\n",
       "       [ 1.01466519e+02],\n",
       "       [ 1.01679828e+02],\n",
       "       [ 1.01893137e+02],\n",
       "       [ 1.02106446e+02],\n",
       "       [ 1.02319755e+02],\n",
       "       [ 1.02533064e+02],\n",
       "       [ 1.02746373e+02],\n",
       "       [ 1.02959681e+02],\n",
       "       [ 1.03172990e+02],\n",
       "       [ 1.03386299e+02],\n",
       "       [ 1.03599608e+02],\n",
       "       [ 1.03812917e+02],\n",
       "       [ 1.04026226e+02],\n",
       "       [ 1.04239535e+02],\n",
       "       [ 1.04452844e+02],\n",
       "       [ 1.04666153e+02],\n",
       "       [ 1.04879462e+02],\n",
       "       [ 1.05092771e+02],\n",
       "       [ 1.05306080e+02],\n",
       "       [ 1.05519389e+02],\n",
       "       [ 1.05732698e+02],\n",
       "       [ 1.05946007e+02],\n",
       "       [ 1.06159316e+02],\n",
       "       [ 1.06372625e+02],\n",
       "       [ 1.06585934e+02],\n",
       "       [ 1.06799242e+02],\n",
       "       [ 1.07012551e+02],\n",
       "       [ 1.07225860e+02],\n",
       "       [ 1.07439169e+02],\n",
       "       [ 1.07652478e+02],\n",
       "       [ 1.07865787e+02],\n",
       "       [ 1.08079096e+02],\n",
       "       [ 1.08292405e+02],\n",
       "       [ 1.08505714e+02],\n",
       "       [ 1.08719023e+02],\n",
       "       [ 1.08932332e+02],\n",
       "       [ 1.09145641e+02],\n",
       "       [ 1.09358950e+02],\n",
       "       [ 1.09572259e+02],\n",
       "       [ 1.09785568e+02],\n",
       "       [ 1.09998877e+02],\n",
       "       [ 1.10212186e+02],\n",
       "       [ 1.10425495e+02],\n",
       "       [ 1.10638804e+02],\n",
       "       [ 1.10852112e+02],\n",
       "       [ 1.11065421e+02],\n",
       "       [ 1.11278730e+02],\n",
       "       [ 1.11492039e+02],\n",
       "       [ 1.11705348e+02],\n",
       "       [ 1.11918657e+02],\n",
       "       [ 1.12131966e+02],\n",
       "       [ 1.12345275e+02],\n",
       "       [ 1.12558584e+02],\n",
       "       [ 1.12771893e+02]])"
      ]
     },
     "execution_count": 51,
     "metadata": {},
     "output_type": "execute_result"
    }
   ],
   "source": [
    "predicted_y_values = model.predict(X)\n",
    "predicted_y_values"
   ]
  },
  {
   "cell_type": "code",
   "execution_count": 52,
   "metadata": {},
   "outputs": [
    {
     "data": {
      "text/plain": [
       "[<matplotlib.lines.Line2D at 0x24bb893e490>]"
      ]
     },
     "execution_count": 52,
     "metadata": {},
     "output_type": "execute_result"
    },
    {
     "data": {
      "image/png": "[encoded data removed]",
      "text/plain": [
       "<Figure size 432x288 with 1 Axes>"
      ]
     },
     "metadata": {
      "needs_background": "light"
     },
     "output_type": "display_data"
    }
   ],
   "source": [
    "plt.scatter(X, y)\n",
    "plt.title('Chile CPI Projection')\n",
    "plt.plot(X, predicted_y_values, color='red')"
   ]
  },
  {
   "cell_type": "code",
   "execution_count": 53,
   "metadata": {},
   "outputs": [
    {
     "data": {
      "text/plain": [
       "LinearRegression()"
      ]
     },
     "execution_count": 53,
     "metadata": {},
     "output_type": "execute_result"
    }
   ],
   "source": [
    "model2 = LinearRegression()\n",
    "model2"
   ]
  },
  {
   "cell_type": "code",
   "execution_count": 54,
   "metadata": {},
   "outputs": [],
   "source": [
    "X = df1.index.values.reshape(-1,1)\n",
    "y = df1['Exchange Rate (to USD)'].values.reshape(-1,1)"
   ]
  },
  {
   "cell_type": "code",
   "execution_count": 55,
   "metadata": {},
   "outputs": [
    {
     "data": {
      "text/plain": [
       "LinearRegression()"
      ]
     },
     "execution_count": 55,
     "metadata": {},
     "output_type": "execute_result"
    }
   ],
   "source": [
    "model2.fit(X, y)"
   ]
  },
  {
   "cell_type": "code",
   "execution_count": 56,
   "metadata": {},
   "outputs": [
    {
     "data": {
      "text/plain": [
       "array([[-162.71964956],\n",
       "       [-150.47526052],\n",
       "       [-138.23087148],\n",
       "       [-125.98648243],\n",
       "       [-113.74209339],\n",
       "       [-101.49770435],\n",
       "       [ -89.25331531],\n",
       "       [ -77.00892626],\n",
       "       [ -64.76453722],\n",
       "       [ -52.52014818],\n",
       "       [ -40.27575913],\n",
       "       [ -28.03137009],\n",
       "       [ -15.78698105],\n",
       "       [  -3.542592  ],\n",
       "       [   8.70179704],\n",
       "       [  20.94618608],\n",
       "       [  33.19057512],\n",
       "       [  45.43496417],\n",
       "       [  57.67935321],\n",
       "       [  69.92374225],\n",
       "       [  82.1681313 ],\n",
       "       [  94.41252034],\n",
       "       [ 106.65690938],\n",
       "       [ 118.90129843],\n",
       "       [ 131.14568747],\n",
       "       [ 143.39007651],\n",
       "       [ 155.63446555],\n",
       "       [ 167.8788546 ],\n",
       "       [ 180.12324364],\n",
       "       [ 192.36763268],\n",
       "       [ 204.61202173],\n",
       "       [ 216.85641077],\n",
       "       [ 229.10079981],\n",
       "       [ 241.34518885],\n",
       "       [ 253.5895779 ],\n",
       "       [ 265.83396694],\n",
       "       [ 278.07835598],\n",
       "       [ 290.32274503],\n",
       "       [ 302.56713407],\n",
       "       [ 314.81152311],\n",
       "       [ 327.05591216],\n",
       "       [ 339.3003012 ],\n",
       "       [ 351.54469024],\n",
       "       [ 363.78907928],\n",
       "       [ 376.03346833],\n",
       "       [ 388.27785737],\n",
       "       [ 400.52224641],\n",
       "       [ 412.76663546],\n",
       "       [ 425.0110245 ],\n",
       "       [ 437.25541354],\n",
       "       [ 449.49980259],\n",
       "       [ 461.74419163],\n",
       "       [ 473.98858067],\n",
       "       [ 486.23296971],\n",
       "       [ 498.47735876],\n",
       "       [ 510.7217478 ],\n",
       "       [ 522.96613684],\n",
       "       [ 535.21052589],\n",
       "       [ 547.45491493],\n",
       "       [ 559.69930397]])"
      ]
     },
     "execution_count": 56,
     "metadata": {},
     "output_type": "execute_result"
    }
   ],
   "source": [
    "predicted_y_values = model2.predict(X)\n",
    "predicted_y_values"
   ]
  },
  {
   "cell_type": "code",
   "execution_count": 57,
   "metadata": {},
   "outputs": [
    {
     "data": {
      "text/plain": [
       "[<matplotlib.lines.Line2D at 0x24bb89980a0>]"
      ]
     },
     "execution_count": 57,
     "metadata": {},
     "output_type": "execute_result"
    },
    {
     "data": {
      "image/png": "[encoded data removed]",
      "text/plain": [
       "<Figure size 432x288 with 1 Axes>"
      ]
     },
     "metadata": {
      "needs_background": "light"
     },
     "output_type": "display_data"
    }
   ],
   "source": [
    "plt.scatter(X, y)\n",
    "plt.title('Chile Exchange Rate (to USD) Projection')\n",
    "plt.plot(X, predicted_y_values, color='red')"
   ]
  },
  {
   "cell_type": "code",
   "execution_count": 64,
   "metadata": {},
   "outputs": [
    {
     "data": {
      "text/plain": [
       "LinearRegression()"
      ]
     },
     "execution_count": 64,
     "metadata": {},
     "output_type": "execute_result"
    }
   ],
   "source": [
    "model3 = LinearRegression()\n",
    "model3"
   ]
  },
  {
   "cell_type": "code",
   "execution_count": 65,
   "metadata": {},
   "outputs": [],
   "source": [
    "X = df2.index.values.reshape(-1,1)\n",
    "y = df2['GDP Percent Change'].values.reshape(-1,1)"
   ]
  },
  {
   "cell_type": "code",
   "execution_count": 67,
   "metadata": {},
   "outputs": [
    {
     "data": {
      "text/plain": [
       "LinearRegression()"
      ]
     },
     "execution_count": 67,
     "metadata": {},
     "output_type": "execute_result"
    }
   ],
   "source": [
    "model3.fit(X, y)"
   ]
  },
  {
   "cell_type": "code",
   "execution_count": 68,
   "metadata": {},
   "outputs": [
    {
     "data": {
      "text/plain": [
       "array([[5.19714096],\n",
       "       [5.14355296],\n",
       "       [5.08996496],\n",
       "       [5.03637697],\n",
       "       [4.98278897],\n",
       "       [4.92920097],\n",
       "       [4.87561297],\n",
       "       [4.82202498],\n",
       "       [4.76843698],\n",
       "       [4.71484898],\n",
       "       [4.66126099],\n",
       "       [4.60767299],\n",
       "       [4.55408499],\n",
       "       [4.50049699],\n",
       "       [4.446909  ],\n",
       "       [4.393321  ],\n",
       "       [4.339733  ],\n",
       "       [4.286145  ],\n",
       "       [4.23255701],\n",
       "       [4.17896901],\n",
       "       [4.12538101],\n",
       "       [4.07179302],\n",
       "       [4.01820502],\n",
       "       [3.96461702],\n",
       "       [3.91102902],\n",
       "       [3.85744103],\n",
       "       [3.80385303],\n",
       "       [3.75026503],\n",
       "       [3.69667704],\n",
       "       [3.64308904],\n",
       "       [3.58950104],\n",
       "       [3.53591304],\n",
       "       [3.48232505],\n",
       "       [3.42873705],\n",
       "       [3.37514905],\n",
       "       [3.32156105],\n",
       "       [3.26797306],\n",
       "       [3.21438506],\n",
       "       [3.16079706],\n",
       "       [3.10720907],\n",
       "       [3.05362107],\n",
       "       [3.00003307],\n",
       "       [2.94644507],\n",
       "       [2.89285708],\n",
       "       [2.83926908],\n",
       "       [2.78568108],\n",
       "       [2.73209309]])"
      ]
     },
     "execution_count": 68,
     "metadata": {},
     "output_type": "execute_result"
    }
   ],
   "source": [
    "predicted_y_values = model3.predict(X)\n",
    "predicted_y_values"
   ]
  },
  {
   "cell_type": "code",
   "execution_count": 69,
   "metadata": {},
   "outputs": [
    {
     "data": {
      "text/plain": [
       "[<matplotlib.lines.Line2D at 0x24bb89f1dc0>]"
      ]
     },
     "execution_count": 69,
     "metadata": {},
     "output_type": "execute_result"
    },
    {
     "data": {
      "image/png": "[encoded data removed]",
      "text/plain": [
       "<Figure size 432x288 with 1 Axes>"
      ]
     },
     "metadata": {
      "needs_background": "light"
     },
     "output_type": "display_data"
    }
   ],
   "source": [
    "plt.scatter(X, y)\n",
    "plt.title('Chile GDP Percent Change Projection')\n",
    "plt.plot(X, predicted_y_values, color='red')"
   ]
  },
  {
   "cell_type": "code",
   "execution_count": null,
   "metadata": {},
   "outputs": [],
   "source": []
  }
 ],
 "metadata": {
  "kernelspec": {
   "display_name": "Python 3",
   "language": "python",
   "name": "python3"
  },
  "language_info": {
   "codemirror_mode": {
    "name": "ipython",
    "version": 3
   },
   "file_extension": ".py",
   "mimetype": "text/x-python",
   "name": "python",
   "nbconvert_exporter": "python",
   "pygments_lexer": "ipython3",
   "version": "3.8.5"
  }
 },
 "nbformat": 4,
 "nbformat_minor": 4
}
